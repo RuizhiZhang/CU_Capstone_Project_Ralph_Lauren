{
 "cells": [
  {
   "cell_type": "code",
   "execution_count": 1,
   "metadata": {},
   "outputs": [],
   "source": [
    "import pandas as pd\n",
    "import numpy as np\n",
    "import matplotlib.pyplot as plt\n",
    "import seaborn as sns"
   ]
  },
  {
   "cell_type": "markdown",
   "metadata": {},
   "source": [
    "## Filter"
   ]
  },
  {
   "cell_type": "code",
   "execution_count": 42,
   "metadata": {},
   "outputs": [],
   "source": [
    "class events_summary(object):\n",
    "    def __init__(self, data):\n",
    "        self.data = data\n",
    "        self.rank_dict = {'minor': [0, 20], 'moderate': [21, 40], 'important': [41, 60], \\\n",
    "                          'significant': [61, 80], 'major': [81, 100]}\n",
    "    \n",
    "    def filter_events(self, rank_filter, dist_filter, column_filter):\n",
    "        \"\"\"\n",
    "        @param rank_filter: a list for rank filter, where values can be integers or strings.\n",
    "        @param dist_filter: a list for distance filter\n",
    "        @param column_filter: a list for column filter\n",
    "        \"\"\"\n",
    "        if rank_filter:\n",
    "            if type(rank_filter) is list:\n",
    "                if type(rank_filter[0]) is str:\n",
    "                    rank_list = [rank_dict[i] for i in rank_filter]\n",
    "                    rank_list = sum(rank_list, [])\n",
    "                    self.data = self.data[self.data['rank'].between(min(rank_list), \n",
    "                                                                    max(rank_list), \n",
    "                                                                    inclusive=True)]\n",
    "                \n",
    "                if type(rank_filter[0]) is int:\n",
    "                    self.data = self.data[self.data['rank'].between(rank_filter[0], \n",
    "                                                                    rank_filter[1], \n",
    "                                                                    inclusive=True)]\n",
    "            else:\n",
    "                self.data = self.data[self.data['rank'].between(rank_dict[rank_filter][0],\n",
    "                                                                rank_dict[rank_filter][1],\n",
    "                                                                inclusive=True)]\n",
    "                                              \n",
    "        if dist_filter:\n",
    "            self.data = self.data[self.data['distance'].between(dist_filter[0], \n",
    "                                                                dist_filter[1], \n",
    "                                                                inclusive=True)]\n",
    "        if column_filter:\n",
    "            self.data = self.data[column_filter]\n",
    "        \n",
    "        return self.data"
   ]
  },
  {
   "cell_type": "code",
   "execution_count": 43,
   "metadata": {},
   "outputs": [],
   "source": [
    "summary = events_summary(events_by_date)\n",
    "# summary.filter_events('major', [0, 20], ['venue_name'])\n",
    "# summary.filter_events(['major', 'significant'], [0, 20], ['venue_name'])\n",
    "# summary.filter_events([0, 50], [0, 20], ['venue_name'])"
   ]
  }
 ],
 "metadata": {
  "kernelspec": {
   "display_name": "Python 3",
   "language": "python",
   "name": "python3"
  },
  "language_info": {
   "codemirror_mode": {
    "name": "ipython",
    "version": 3
   },
   "file_extension": ".py",
   "mimetype": "text/x-python",
   "name": "python",
   "nbconvert_exporter": "python",
   "pygments_lexer": "ipython3",
   "version": "3.7.2"
  }
 },
 "nbformat": 4,
 "nbformat_minor": 2
}
