{
 "cells": [
  {
   "cell_type": "markdown",
   "metadata": {},
   "source": [
    "# Data preparation"
   ]
  },
  {
   "cell_type": "code",
   "execution_count": 1,
   "metadata": {},
   "outputs": [],
   "source": [
    "import pandas as pd\n",
    "import numpy as np\n",
    "import matplotlib.pyplot as plt\n",
    "import seaborn as sns"
   ]
  },
  {
   "cell_type": "markdown",
   "metadata": {},
   "source": [
    "## Sales/traffic Data"
   ]
  },
  {
   "cell_type": "markdown",
   "metadata": {},
   "source": [
    "### Merge (if not done before)"
   ]
  },
  {
   "cell_type": "code",
   "execution_count": null,
   "metadata": {},
   "outputs": [],
   "source": [
    "# sales_clean = pd.read_csv('data/1208_LasVegas_South_sales_cleaned.csv')"
   ]
  },
  {
   "cell_type": "code",
   "execution_count": null,
   "metadata": {},
   "outputs": [],
   "source": [
    "# sales_clean.head(3)"
   ]
  },
  {
   "cell_type": "code",
   "execution_count": null,
   "metadata": {},
   "outputs": [],
   "source": [
    "# sales_clean.date = pd.to_datetime(sales_clean.date, format='%m/%d/%y')\n",
    "# sales_clean = sales_clean[['date', 'sales_original', 'sales_cleaned']]"
   ]
  },
  {
   "cell_type": "code",
   "execution_count": null,
   "metadata": {},
   "outputs": [],
   "source": [
    "# traffic_clean = pd.read_csv('data/1208_LasVegas_South_traffic_cleaned.csv')"
   ]
  },
  {
   "cell_type": "code",
   "execution_count": null,
   "metadata": {},
   "outputs": [],
   "source": [
    "# traffic_clean.head(3)"
   ]
  },
  {
   "cell_type": "code",
   "execution_count": null,
   "metadata": {},
   "outputs": [],
   "source": [
    "# traffic_clean.date = pd.to_datetime(traffic_clean.date, format='%m/%d/%y')\n",
    "# traffic_clean = traffic_clean[['date', 'traffic_original', 'traffic_cleaned']]"
   ]
  },
  {
   "cell_type": "code",
   "execution_count": null,
   "metadata": {},
   "outputs": [],
   "source": [
    "# assert sales_clean.shape[0] == traffic_clean.shape[0]"
   ]
  },
  {
   "cell_type": "code",
   "execution_count": null,
   "metadata": {},
   "outputs": [],
   "source": [
    "# sales_traffic_clean = pd.merge(sales_clean, traffic_clean, on='date')"
   ]
  },
  {
   "cell_type": "code",
   "execution_count": null,
   "metadata": {},
   "outputs": [],
   "source": [
    "# sales_traffic_clean.info()"
   ]
  },
  {
   "cell_type": "markdown",
   "metadata": {},
   "source": [
    "### Read data (if merged before)"
   ]
  },
  {
   "cell_type": "code",
   "execution_count": 2,
   "metadata": {},
   "outputs": [],
   "source": [
    "CITY_NAME = 'ORLANDO'\n",
    "STORE_NAME = 'ORLANDO FOA'"
   ]
  },
  {
   "cell_type": "code",
   "execution_count": 3,
   "metadata": {},
   "outputs": [],
   "source": [
    "sales_traffic_clean = pd.read_csv('sales_traffic_' + STORE_NAME + '.csv')"
   ]
  },
  {
   "cell_type": "code",
   "execution_count": 4,
   "metadata": {},
   "outputs": [
    {
     "data": {
      "text/html": [
       "<div>\n",
       "<style scoped>\n",
       "    .dataframe tbody tr th:only-of-type {\n",
       "        vertical-align: middle;\n",
       "    }\n",
       "\n",
       "    .dataframe tbody tr th {\n",
       "        vertical-align: top;\n",
       "    }\n",
       "\n",
       "    .dataframe thead th {\n",
       "        text-align: right;\n",
       "    }\n",
       "</style>\n",
       "<table border=\"1\" class=\"dataframe\">\n",
       "  <thead>\n",
       "    <tr style=\"text-align: right;\">\n",
       "      <th></th>\n",
       "      <th>date</th>\n",
       "      <th>sales_original</th>\n",
       "      <th>sales_cleaned</th>\n",
       "      <th>traffic_original</th>\n",
       "      <th>traffic_cleaned</th>\n",
       "    </tr>\n",
       "  </thead>\n",
       "  <tbody>\n",
       "    <tr>\n",
       "      <th>0</th>\n",
       "      <td>2017-04-02</td>\n",
       "      <td>63087.03</td>\n",
       "      <td>3.69895</td>\n",
       "      <td>21760</td>\n",
       "      <td>-14.127418</td>\n",
       "    </tr>\n",
       "    <tr>\n",
       "      <th>1</th>\n",
       "      <td>2017-04-03</td>\n",
       "      <td>60186.03</td>\n",
       "      <td>-9.06278</td>\n",
       "      <td>22440</td>\n",
       "      <td>1.867672</td>\n",
       "    </tr>\n",
       "    <tr>\n",
       "      <th>2</th>\n",
       "      <td>2017-04-04</td>\n",
       "      <td>56885.94</td>\n",
       "      <td>12.08802</td>\n",
       "      <td>22408</td>\n",
       "      <td>2.918414</td>\n",
       "    </tr>\n",
       "  </tbody>\n",
       "</table>\n",
       "</div>"
      ],
      "text/plain": [
       "         date  sales_original  sales_cleaned  traffic_original  \\\n",
       "0  2017-04-02        63087.03        3.69895             21760   \n",
       "1  2017-04-03        60186.03       -9.06278             22440   \n",
       "2  2017-04-04        56885.94       12.08802             22408   \n",
       "\n",
       "   traffic_cleaned  \n",
       "0       -14.127418  \n",
       "1         1.867672  \n",
       "2         2.918414  "
      ]
     },
     "execution_count": 4,
     "metadata": {},
     "output_type": "execute_result"
    }
   ],
   "source": [
    "sales_traffic_clean.head(3)"
   ]
  },
  {
   "cell_type": "code",
   "execution_count": 5,
   "metadata": {},
   "outputs": [],
   "source": [
    "sales_traffic_clean.date = pd.to_datetime(sales_traffic_clean.date, format='%Y-%m-%d')"
   ]
  },
  {
   "cell_type": "code",
   "execution_count": 6,
   "metadata": {},
   "outputs": [],
   "source": [
    "# Constant date values\n",
    "DATE_MIN = sales_traffic_clean.date.min().normalize()\n",
    "DATE_MAX = sales_traffic_clean.date.max().normalize()"
   ]
  },
  {
   "cell_type": "code",
   "execution_count": 7,
   "metadata": {},
   "outputs": [
    {
     "data": {
      "text/plain": [
       "(Timestamp('2017-04-02 00:00:00'), Timestamp('2019-09-28 00:00:00'))"
      ]
     },
     "execution_count": 7,
     "metadata": {},
     "output_type": "execute_result"
    }
   ],
   "source": [
    "DATE_MIN, DATE_MAX"
   ]
  },
  {
   "cell_type": "markdown",
   "metadata": {},
   "source": [
    "## Events Data"
   ]
  },
  {
   "cell_type": "code",
   "execution_count": 8,
   "metadata": {},
   "outputs": [],
   "source": [
    "# Constant location for stores\n",
    "LAT_STORE, LON_STORE = {}, {}\n",
    "\n",
    "LAT_STORE['ORLANDO FOA'] = 28.473595\n",
    "LAT_STORE['LAKE BUENA VISTA FOA'] = 28.387852\n",
    "LAT_STORE['LANCASTER FSC'] = 40.025636\n",
    "LAT_STORE['LAS VEGAS NORTH'] = 36.170727\n",
    "LAT_STORE['LAS VEGAS SOUTH'] = 36.056725\n",
    "\n",
    "LON_STORE['ORLANDO FOA'] = -81.451615\n",
    "LON_STORE['LAKE BUENA VISTA FOA'] = -81.493674\n",
    "LON_STORE['LANCASTER FSC'] = -76.217167\n",
    "LON_STORE['LAS VEGAS NORTH'] = -115.157651\n",
    "LON_STORE['LAS VEGAS SOUTH'] = -115.170121"
   ]
  },
  {
   "cell_type": "code",
   "execution_count": 9,
   "metadata": {},
   "outputs": [],
   "source": [
    "events = pd.read_csv('events_' + CITY_NAME + '.csv')"
   ]
  },
  {
   "cell_type": "code",
   "execution_count": 10,
   "metadata": {},
   "outputs": [
    {
     "data": {
      "text/html": [
       "<div>\n",
       "<style scoped>\n",
       "    .dataframe tbody tr th:only-of-type {\n",
       "        vertical-align: middle;\n",
       "    }\n",
       "\n",
       "    .dataframe tbody tr th {\n",
       "        vertical-align: top;\n",
       "    }\n",
       "\n",
       "    .dataframe thead th {\n",
       "        text-align: right;\n",
       "    }\n",
       "</style>\n",
       "<table border=\"1\" class=\"dataframe\">\n",
       "  <thead>\n",
       "    <tr style=\"text-align: right;\">\n",
       "      <th></th>\n",
       "      <th>id</th>\n",
       "      <th>title</th>\n",
       "      <th>description</th>\n",
       "      <th>start</th>\n",
       "      <th>end</th>\n",
       "      <th>predicted_end</th>\n",
       "      <th>duration</th>\n",
       "      <th>labels</th>\n",
       "      <th>category</th>\n",
       "      <th>timezone</th>\n",
       "      <th>...</th>\n",
       "      <th>location</th>\n",
       "      <th>venue_name</th>\n",
       "      <th>venue_formatted_address</th>\n",
       "      <th>scope</th>\n",
       "      <th>rank</th>\n",
       "      <th>local_rank</th>\n",
       "      <th>aviation_rank</th>\n",
       "      <th>state</th>\n",
       "      <th>first_seen</th>\n",
       "      <th>venue_type</th>\n",
       "    </tr>\n",
       "  </thead>\n",
       "  <tbody>\n",
       "    <tr>\n",
       "      <th>0</th>\n",
       "      <td>tNCvM9eaqq7KgfvtaC</td>\n",
       "      <td>Screamin' Green Hauntoween</td>\n",
       "      <td>\"Spooky and colorful family fun awaits during ...</td>\n",
       "      <td>2016-10-08T14:00:00Z</td>\n",
       "      <td>2016-10-09T00:00:00Z</td>\n",
       "      <td>NaN</td>\n",
       "      <td>36000</td>\n",
       "      <td>\"attraction,community,family\"</td>\n",
       "      <td>community</td>\n",
       "      <td>America/New_York</td>\n",
       "      <td>...</td>\n",
       "      <td>\"28.444559,-81.391691\"</td>\n",
       "      <td>Crayola Experience</td>\n",
       "      <td>8001 S Orange Blossom Trl\\nSouth Orange Blosso...</td>\n",
       "      <td>locality</td>\n",
       "      <td>24</td>\n",
       "      <td>45.0</td>\n",
       "      <td>NaN</td>\n",
       "      <td>active</td>\n",
       "      <td>2018-01-31T17:54:29Z</td>\n",
       "      <td>indoor</td>\n",
       "    </tr>\n",
       "    <tr>\n",
       "      <th>1</th>\n",
       "      <td>lxgv6VgLXele</td>\n",
       "      <td>Moderate Delays - Orlando International Airpor...</td>\n",
       "      <td>NaN</td>\n",
       "      <td>2016-10-08T21:30:00Z</td>\n",
       "      <td>2016-10-09T00:30:00Z</td>\n",
       "      <td>NaN</td>\n",
       "      <td>10800</td>\n",
       "      <td>\"airport,delay\"</td>\n",
       "      <td>airport-delays</td>\n",
       "      <td>America/New_York</td>\n",
       "      <td>...</td>\n",
       "      <td>\"28.43126,-81.307509\"</td>\n",
       "      <td>Hyatt Regency Orlando International Airport</td>\n",
       "      <td>9300 Jeff Fuqua Boulevard\\nOrlando, FL 32827\\n...</td>\n",
       "      <td>locality</td>\n",
       "      <td>40</td>\n",
       "      <td>NaN</td>\n",
       "      <td>NaN</td>\n",
       "      <td>active</td>\n",
       "      <td>2016-10-08T01:55:49Z</td>\n",
       "      <td>indoor</td>\n",
       "    </tr>\n",
       "    <tr>\n",
       "      <th>2</th>\n",
       "      <td>030e6833f057d76d21</td>\n",
       "      <td>Leif Erikson Day</td>\n",
       "      <td>\"Leif Erikson Day honors the first Scandinavia...</td>\n",
       "      <td>2016-10-09T00:00:00Z</td>\n",
       "      <td>2016-10-09T23:59:59Z</td>\n",
       "      <td>NaN</td>\n",
       "      <td>86399</td>\n",
       "      <td>\"holiday,observance\"</td>\n",
       "      <td>observances</td>\n",
       "      <td>NaN</td>\n",
       "      <td>...</td>\n",
       "      <td>\"37.09024,-95.712891\"</td>\n",
       "      <td>Leif Erikson Day</td>\n",
       "      <td>NaN</td>\n",
       "      <td>country</td>\n",
       "      <td>50</td>\n",
       "      <td>NaN</td>\n",
       "      <td>0.0</td>\n",
       "      <td>active</td>\n",
       "      <td>2015-01-06T12:35:08Z</td>\n",
       "      <td>outdoor</td>\n",
       "    </tr>\n",
       "    <tr>\n",
       "      <th>3</th>\n",
       "      <td>8MwekkdMl77j</td>\n",
       "      <td>Henry Rollins (21+)</td>\n",
       "      <td>NaN</td>\n",
       "      <td>2016-10-09T00:00:00Z</td>\n",
       "      <td>2016-10-09T00:00:00Z</td>\n",
       "      <td>NaN</td>\n",
       "      <td>0</td>\n",
       "      <td>\"concert,music\"</td>\n",
       "      <td>concerts</td>\n",
       "      <td>America/New_York</td>\n",
       "      <td>...</td>\n",
       "      <td>\"28.548701,-81.351256\"</td>\n",
       "      <td>The Plaza Live</td>\n",
       "      <td>425 North Bumby Avenue\\nOrlando, FL 32803\\nUni...</td>\n",
       "      <td>locality</td>\n",
       "      <td>49</td>\n",
       "      <td>72.0</td>\n",
       "      <td>0.0</td>\n",
       "      <td>active</td>\n",
       "      <td>2016-09-13T04:56:15Z</td>\n",
       "      <td>indoor</td>\n",
       "    </tr>\n",
       "    <tr>\n",
       "      <th>4</th>\n",
       "      <td>D5jGBJZzGdpN</td>\n",
       "      <td>The Illusionists</td>\n",
       "      <td>NaN</td>\n",
       "      <td>2016-10-09T00:00:00Z</td>\n",
       "      <td>2016-10-09T00:00:00Z</td>\n",
       "      <td>NaN</td>\n",
       "      <td>0</td>\n",
       "      <td>\"performing-arts\"</td>\n",
       "      <td>performing-arts</td>\n",
       "      <td>America/New_York</td>\n",
       "      <td>...</td>\n",
       "      <td>\"28.537531,-81.376895\"</td>\n",
       "      <td>Dr. Phillips Center - Walt Disney Theater</td>\n",
       "      <td>445 South Magnolia Avenue\\nOrlando, FL 32801\\n...</td>\n",
       "      <td>locality</td>\n",
       "      <td>59</td>\n",
       "      <td>77.0</td>\n",
       "      <td>NaN</td>\n",
       "      <td>active</td>\n",
       "      <td>2016-06-10T21:57:50Z</td>\n",
       "      <td>indoor</td>\n",
       "    </tr>\n",
       "  </tbody>\n",
       "</table>\n",
       "<p>5 rows × 21 columns</p>\n",
       "</div>"
      ],
      "text/plain": [
       "                   id                                              title  \\\n",
       "0  tNCvM9eaqq7KgfvtaC                         Screamin' Green Hauntoween   \n",
       "1        lxgv6VgLXele  Moderate Delays - Orlando International Airpor...   \n",
       "2  030e6833f057d76d21                                   Leif Erikson Day   \n",
       "3        8MwekkdMl77j                                Henry Rollins (21+)   \n",
       "4        D5jGBJZzGdpN                                   The Illusionists   \n",
       "\n",
       "                                         description                 start  \\\n",
       "0  \"Spooky and colorful family fun awaits during ...  2016-10-08T14:00:00Z   \n",
       "1                                                NaN  2016-10-08T21:30:00Z   \n",
       "2  \"Leif Erikson Day honors the first Scandinavia...  2016-10-09T00:00:00Z   \n",
       "3                                                NaN  2016-10-09T00:00:00Z   \n",
       "4                                                NaN  2016-10-09T00:00:00Z   \n",
       "\n",
       "                    end predicted_end  duration  \\\n",
       "0  2016-10-09T00:00:00Z           NaN     36000   \n",
       "1  2016-10-09T00:30:00Z           NaN     10800   \n",
       "2  2016-10-09T23:59:59Z           NaN     86399   \n",
       "3  2016-10-09T00:00:00Z           NaN         0   \n",
       "4  2016-10-09T00:00:00Z           NaN         0   \n",
       "\n",
       "                          labels         category          timezone  ...  \\\n",
       "0  \"attraction,community,family\"        community  America/New_York  ...   \n",
       "1                \"airport,delay\"   airport-delays  America/New_York  ...   \n",
       "2           \"holiday,observance\"      observances               NaN  ...   \n",
       "3                \"concert,music\"         concerts  America/New_York  ...   \n",
       "4              \"performing-arts\"  performing-arts  America/New_York  ...   \n",
       "\n",
       "                 location                                   venue_name  \\\n",
       "0  \"28.444559,-81.391691\"                           Crayola Experience   \n",
       "1   \"28.43126,-81.307509\"  Hyatt Regency Orlando International Airport   \n",
       "2   \"37.09024,-95.712891\"                             Leif Erikson Day   \n",
       "3  \"28.548701,-81.351256\"                               The Plaza Live   \n",
       "4  \"28.537531,-81.376895\"    Dr. Phillips Center - Walt Disney Theater   \n",
       "\n",
       "                             venue_formatted_address     scope rank  \\\n",
       "0  8001 S Orange Blossom Trl\\nSouth Orange Blosso...  locality   24   \n",
       "1  9300 Jeff Fuqua Boulevard\\nOrlando, FL 32827\\n...  locality   40   \n",
       "2                                                NaN   country   50   \n",
       "3  425 North Bumby Avenue\\nOrlando, FL 32803\\nUni...  locality   49   \n",
       "4  445 South Magnolia Avenue\\nOrlando, FL 32801\\n...  locality   59   \n",
       "\n",
       "   local_rank  aviation_rank   state            first_seen venue_type  \n",
       "0        45.0            NaN  active  2018-01-31T17:54:29Z     indoor  \n",
       "1         NaN            NaN  active  2016-10-08T01:55:49Z     indoor  \n",
       "2         NaN            0.0  active  2015-01-06T12:35:08Z    outdoor  \n",
       "3        72.0            0.0  active  2016-09-13T04:56:15Z     indoor  \n",
       "4        77.0            NaN  active  2016-06-10T21:57:50Z     indoor  \n",
       "\n",
       "[5 rows x 21 columns]"
      ]
     },
     "execution_count": 10,
     "metadata": {},
     "output_type": "execute_result"
    }
   ],
   "source": [
    "events.head(5)"
   ]
  },
  {
   "cell_type": "code",
   "execution_count": 11,
   "metadata": {},
   "outputs": [
    {
     "name": "stdout",
     "output_type": "stream",
     "text": [
      "<class 'pandas.core.frame.DataFrame'>\n",
      "RangeIndex: 25379 entries, 0 to 25378\n",
      "Data columns (total 21 columns):\n",
      "id                         25379 non-null object\n",
      "title                      25379 non-null object\n",
      "description                16916 non-null object\n",
      "start                      25379 non-null object\n",
      "end                        25379 non-null object\n",
      "predicted_end              720 non-null object\n",
      "duration                   25379 non-null int64\n",
      "labels                     25379 non-null object\n",
      "category                   25379 non-null object\n",
      "timezone                   24388 non-null object\n",
      "country                    25376 non-null object\n",
      "location                   25379 non-null object\n",
      "venue_name                 23715 non-null object\n",
      "venue_formatted_address    22648 non-null object\n",
      "scope                      25379 non-null object\n",
      "rank                       25379 non-null int64\n",
      "local_rank                 23376 non-null float64\n",
      "aviation_rank              10960 non-null float64\n",
      "state                      25379 non-null object\n",
      "first_seen                 25379 non-null object\n",
      "venue_type                 23715 non-null object\n",
      "dtypes: float64(2), int64(2), object(17)\n",
      "memory usage: 4.1+ MB\n"
     ]
    }
   ],
   "source": [
    "events.info()"
   ]
  },
  {
   "cell_type": "code",
   "execution_count": 12,
   "metadata": {},
   "outputs": [
    {
     "data": {
      "text/plain": [
       "array(['community', 'airport-delays', 'observances', 'concerts',\n",
       "       'performing-arts', 'festivals', 'expos', 'sports', 'conferences',\n",
       "       'severe-weather', 'daylight-savings', 'politics',\n",
       "       'public-holidays', 'school-holidays', 'disasters', 'academic',\n",
       "       'terror'], dtype=object)"
      ]
     },
     "execution_count": 12,
     "metadata": {},
     "output_type": "execute_result"
    }
   ],
   "source": [
    "events.category.unique()"
   ]
  },
  {
   "cell_type": "code",
   "execution_count": 13,
   "metadata": {},
   "outputs": [
    {
     "data": {
      "text/plain": [
       "array(['America/New_York', nan, 'America/Chicago'], dtype=object)"
      ]
     },
     "execution_count": 13,
     "metadata": {},
     "output_type": "execute_result"
    }
   ],
   "source": [
    "events.timezone.unique()"
   ]
  },
  {
   "cell_type": "code",
   "execution_count": 14,
   "metadata": {},
   "outputs": [],
   "source": [
    "import mpu\n",
    "\n",
    "def draw_events_data(events, store_name, date_min=DATE_MIN, date_max=DATE_MAX, \n",
    "                     lat_store=LAT_STORE, lon_store=LON_STORE):\n",
    "    \n",
    "    def compute_time(df):\n",
    "        if df['start'].hour >= 12:\n",
    "            return 'pm'\n",
    "        else:\n",
    "            return 'am'\n",
    "    \n",
    "    def compute_dist(df, store_name):\n",
    "        return mpu.haversine_distance((df.latitude, df.longitude), \n",
    "                                      (lat_store[store_name], lon_store[store_name]))\n",
    "    \n",
    "    def compute_capacity(df):\n",
    "        # exp((rank + 19.769) / 9.6442) by reverse engineering\n",
    "        return np.exp((df['rank'] + 19.769) / 9.6442)\n",
    "    \n",
    "    def compute_impact(df, method):\n",
    "        if method == 'linear':\n",
    "            return df['rank'] / df['distance']\n",
    "        if method == 'exp':\n",
    "            return np.sqrt(np.exp(df['rank'])) / np.square(df['distance'])\n",
    "    \n",
    "    # Split location variable into longitude and latitude\n",
    "    lat = [float(events.location[i].strip(\"\\\"\").split(',')[0]) \\\n",
    "           for i in range(len(events))]\n",
    "    lon = [float(events.location[i].strip(\"\\\"\").split(',')[1]) \\\n",
    "           for i in range(len(events))]\n",
    "    events['longitude'] = lon\n",
    "    events['latitude'] = lat\n",
    "    \n",
    "    events.start = pd.to_datetime(events.start)\n",
    "    events.end = pd.to_datetime(events.end)\n",
    "    \n",
    "    # Extract time (am/pm)\n",
    "    events['start_time'] = events.apply(compute_time, axis=1)\n",
    "    \n",
    "    # Generate a date range for the events\n",
    "    events['start'] = events.start.dt.tz_localize(None).dt.normalize()\n",
    "    events['end'] = events.end.dt.tz_localize(None).dt.normalize()\n",
    "    \n",
    "    date_range = events.apply(lambda x: pd.date_range(x.start, x.end).tolist(), \n",
    "                              axis=1)\n",
    "    \n",
    "    events = events.drop(['id', 'start', 'end', 'predicted_end', \\\n",
    "                          'timezone', 'country', 'location', \\\n",
    "                          'venue_formatted_address', 'state', 'first_seen'], 1)\n",
    "    \n",
    "    events_by_date = pd.DataFrame(columns = events.columns)\n",
    "    dates_rearr = []\n",
    "    for i in range(len(events)):\n",
    "        for dates in date_range[i]:\n",
    "            if (dates <= date_max) & (dates >= date_min):\n",
    "                dates_rearr.append(dates)\n",
    "                events_by_date = events_by_date.append(events.iloc[i])\n",
    "    \n",
    "    # Aggregate new features\n",
    "    # Distance in miles\n",
    "    events_by_date['distance'] = events_by_date.apply(compute_dist, \n",
    "                                                  store_name=store_name, axis=1).div(1.609)\n",
    "    # Estimated capacity\n",
    "    events_by_date['est_capacity'] = events_by_date.apply(compute_capacity, axis=1)\n",
    "    # Impact\n",
    "    events_by_date['impact_linear'] = events_by_date.apply(compute_impact, method='linear', axis=1)\n",
    "    events_by_date['impact_exp'] = events_by_date.apply(compute_impact, method='exp', axis=1)\n",
    "    \n",
    "    events_by_date['date'] = dates_rearr\n",
    "    # Check if an event is annual\n",
    "    events_by_date['year'] = events_by_date.date.dt.year\n",
    "    is_annual = events_by_date.groupby('title')['year'].nunique().to_frame('is_annual').reset_index()\n",
    "    is_annual['is_annual'] = is_annual.eval('is_annual == 3').astype(int)\n",
    "    events_by_date = pd.merge(events_by_date, is_annual, on='title')\n",
    "    \n",
    "    # Reorganize the columns\n",
    "    cols = ['title', 'description', 'labels', 'category', \\\n",
    "            'date', 'year', 'is_annual', 'start_time', 'duration', \\\n",
    "            'venue_name', 'scope', 'venue_type', 'est_capacity', 'distance', 'longitude', 'latitude', \\\n",
    "            'rank', 'local_rank', 'aviation_rank', 'impact_linear', 'impact_exp']\n",
    "    events_by_date = events_by_date[cols]\n",
    "    \n",
    "    # For efficiency, write out the data\n",
    "    events_by_date.to_csv('events_' + store_name + '.csv', index=False)"
   ]
  },
  {
   "cell_type": "code",
   "execution_count": 15,
   "metadata": {},
   "outputs": [],
   "source": [
    "draw_events_data(events, STORE_NAME)"
   ]
  },
  {
   "cell_type": "code",
   "execution_count": 16,
   "metadata": {},
   "outputs": [],
   "source": [
    "events_by_date = pd.read_csv('events_' + STORE_NAME + '.csv')"
   ]
  },
  {
   "cell_type": "code",
   "execution_count": 17,
   "metadata": {},
   "outputs": [],
   "source": [
    "events_by_date.date = pd.to_datetime(events_by_date.date, format='%Y-%m-%d')"
   ]
  },
  {
   "cell_type": "code",
   "execution_count": 18,
   "metadata": {},
   "outputs": [
    {
     "data": {
      "text/html": [
       "<div>\n",
       "<style scoped>\n",
       "    .dataframe tbody tr th:only-of-type {\n",
       "        vertical-align: middle;\n",
       "    }\n",
       "\n",
       "    .dataframe tbody tr th {\n",
       "        vertical-align: top;\n",
       "    }\n",
       "\n",
       "    .dataframe thead th {\n",
       "        text-align: right;\n",
       "    }\n",
       "</style>\n",
       "<table border=\"1\" class=\"dataframe\">\n",
       "  <thead>\n",
       "    <tr style=\"text-align: right;\">\n",
       "      <th></th>\n",
       "      <th>title</th>\n",
       "      <th>description</th>\n",
       "      <th>labels</th>\n",
       "      <th>category</th>\n",
       "      <th>date</th>\n",
       "      <th>year</th>\n",
       "      <th>is_annual</th>\n",
       "      <th>start_time</th>\n",
       "      <th>duration</th>\n",
       "      <th>venue_name</th>\n",
       "      <th>...</th>\n",
       "      <th>venue_type</th>\n",
       "      <th>est_capacity</th>\n",
       "      <th>distance</th>\n",
       "      <th>longitude</th>\n",
       "      <th>latitude</th>\n",
       "      <th>rank</th>\n",
       "      <th>local_rank</th>\n",
       "      <th>aviation_rank</th>\n",
       "      <th>impact_linear</th>\n",
       "      <th>impact_exp</th>\n",
       "    </tr>\n",
       "  </thead>\n",
       "  <tbody>\n",
       "    <tr>\n",
       "      <th>0</th>\n",
       "      <td>2017 Florida Black Student Union Conference</td>\n",
       "      <td>\"On APRIL 1 - APRIL 2, 2017 the Florida BSU Co...</td>\n",
       "      <td>\"community,conference\"</td>\n",
       "      <td>conferences</td>\n",
       "      <td>2017-04-02</td>\n",
       "      <td>2017</td>\n",
       "      <td>0</td>\n",
       "      <td>pm</td>\n",
       "      <td>115200</td>\n",
       "      <td>NaN</td>\n",
       "      <td>...</td>\n",
       "      <td>NaN</td>\n",
       "      <td>670.800257</td>\n",
       "      <td>17.316583</td>\n",
       "      <td>-81.203304</td>\n",
       "      <td>28.596877</td>\n",
       "      <td>43</td>\n",
       "      <td>60.0</td>\n",
       "      <td>0.0</td>\n",
       "      <td>2.483169</td>\n",
       "      <td>7.251152e+06</td>\n",
       "    </tr>\n",
       "    <tr>\n",
       "      <th>1</th>\n",
       "      <td>Pity The Fools by The Humor Mill Orlando</td>\n",
       "      <td>\"The Humor Mill Orlando, Central Florida's Pre...</td>\n",
       "      <td>\"performing-arts\"</td>\n",
       "      <td>performing-arts</td>\n",
       "      <td>2017-04-02</td>\n",
       "      <td>2017</td>\n",
       "      <td>0</td>\n",
       "      <td>pm</td>\n",
       "      <td>5400</td>\n",
       "      <td>Orlando Shakespeare Theater</td>\n",
       "      <td>...</td>\n",
       "      <td>indoor</td>\n",
       "      <td>174.253473</td>\n",
       "      <td>8.605827</td>\n",
       "      <td>-81.366891</td>\n",
       "      <td>28.573423</td>\n",
       "      <td>30</td>\n",
       "      <td>55.0</td>\n",
       "      <td>NaN</td>\n",
       "      <td>3.486010</td>\n",
       "      <td>4.413996e+04</td>\n",
       "    </tr>\n",
       "    <tr>\n",
       "      <th>2</th>\n",
       "      <td>Guest Artist: Allen and Laura Vizzutti, trumpe...</td>\n",
       "      <td>\"Campus Location: Rehearsal Hall, Auditorium(1...</td>\n",
       "      <td>\"campus,concert,music\"</td>\n",
       "      <td>concerts</td>\n",
       "      <td>2017-04-02</td>\n",
       "      <td>2017</td>\n",
       "      <td>0</td>\n",
       "      <td>am</td>\n",
       "      <td>0</td>\n",
       "      <td>University of Central Florida</td>\n",
       "      <td>...</td>\n",
       "      <td>indoor</td>\n",
       "      <td>68.532467</td>\n",
       "      <td>17.677997</td>\n",
       "      <td>-81.200060</td>\n",
       "      <td>28.602427</td>\n",
       "      <td>21</td>\n",
       "      <td>38.0</td>\n",
       "      <td>NaN</td>\n",
       "      <td>1.187917</td>\n",
       "      <td>1.162053e+02</td>\n",
       "    </tr>\n",
       "  </tbody>\n",
       "</table>\n",
       "<p>3 rows × 21 columns</p>\n",
       "</div>"
      ],
      "text/plain": [
       "                                               title  \\\n",
       "0        2017 Florida Black Student Union Conference   \n",
       "1           Pity The Fools by The Humor Mill Orlando   \n",
       "2  Guest Artist: Allen and Laura Vizzutti, trumpe...   \n",
       "\n",
       "                                         description                  labels  \\\n",
       "0  \"On APRIL 1 - APRIL 2, 2017 the Florida BSU Co...  \"community,conference\"   \n",
       "1  \"The Humor Mill Orlando, Central Florida's Pre...       \"performing-arts\"   \n",
       "2  \"Campus Location: Rehearsal Hall, Auditorium(1...  \"campus,concert,music\"   \n",
       "\n",
       "          category       date  year  is_annual start_time  duration  \\\n",
       "0      conferences 2017-04-02  2017          0         pm    115200   \n",
       "1  performing-arts 2017-04-02  2017          0         pm      5400   \n",
       "2         concerts 2017-04-02  2017          0         am         0   \n",
       "\n",
       "                      venue_name  ... venue_type est_capacity   distance  \\\n",
       "0                            NaN  ...        NaN   670.800257  17.316583   \n",
       "1    Orlando Shakespeare Theater  ...     indoor   174.253473   8.605827   \n",
       "2  University of Central Florida  ...     indoor    68.532467  17.677997   \n",
       "\n",
       "   longitude   latitude  rank  local_rank  aviation_rank  impact_linear  \\\n",
       "0 -81.203304  28.596877    43        60.0            0.0       2.483169   \n",
       "1 -81.366891  28.573423    30        55.0            NaN       3.486010   \n",
       "2 -81.200060  28.602427    21        38.0            NaN       1.187917   \n",
       "\n",
       "     impact_exp  \n",
       "0  7.251152e+06  \n",
       "1  4.413996e+04  \n",
       "2  1.162053e+02  \n",
       "\n",
       "[3 rows x 21 columns]"
      ]
     },
     "execution_count": 18,
     "metadata": {},
     "output_type": "execute_result"
    }
   ],
   "source": [
    "events_by_date.head(3)"
   ]
  },
  {
   "cell_type": "code",
   "execution_count": 19,
   "metadata": {},
   "outputs": [
    {
     "name": "stdout",
     "output_type": "stream",
     "text": [
      "<class 'pandas.core.frame.DataFrame'>\n",
      "RangeIndex: 23801 entries, 0 to 23800\n",
      "Data columns (total 21 columns):\n",
      "title            23801 non-null object\n",
      "description      12745 non-null object\n",
      "labels           23801 non-null object\n",
      "category         23801 non-null object\n",
      "date             23801 non-null datetime64[ns]\n",
      "year             23801 non-null int64\n",
      "is_annual        23801 non-null int64\n",
      "start_time       23801 non-null object\n",
      "duration         23801 non-null int64\n",
      "venue_name       21405 non-null object\n",
      "scope            23801 non-null object\n",
      "venue_type       21405 non-null object\n",
      "est_capacity     23801 non-null float64\n",
      "distance         23801 non-null float64\n",
      "longitude        23801 non-null float64\n",
      "latitude         23801 non-null float64\n",
      "rank             23801 non-null int64\n",
      "local_rank       18684 non-null float64\n",
      "aviation_rank    11071 non-null float64\n",
      "impact_linear    23801 non-null float64\n",
      "impact_exp       23801 non-null float64\n",
      "dtypes: datetime64[ns](1), float64(8), int64(4), object(8)\n",
      "memory usage: 3.8+ MB\n"
     ]
    }
   ],
   "source": [
    "events_by_date.info()"
   ]
  }
 ],
 "metadata": {
  "kernelspec": {
   "display_name": "Python 3",
   "language": "python",
   "name": "python3"
  },
  "language_info": {
   "codemirror_mode": {
    "name": "ipython",
    "version": 3
   },
   "file_extension": ".py",
   "mimetype": "text/x-python",
   "name": "python",
   "nbconvert_exporter": "python",
   "pygments_lexer": "ipython3",
   "version": "3.7.2"
  }
 },
 "nbformat": 4,
 "nbformat_minor": 2
}
