{
 "cells": [
  {
   "cell_type": "markdown",
   "metadata": {},
   "source": [
    "# Data preparation"
   ]
  },
  {
   "cell_type": "code",
   "execution_count": 1,
   "metadata": {},
   "outputs": [],
   "source": [
    "import pandas as pd\n",
    "import numpy as np\n",
    "import matplotlib.pyplot as plt\n",
    "import seaborn as sns"
   ]
  },
  {
   "cell_type": "code",
   "execution_count": 2,
   "metadata": {},
   "outputs": [],
   "source": [
    "CITY_NAME = 'LANCASTER'\n",
    "STORE_NAME = 'LANCASTER FSC'"
   ]
  },
  {
   "cell_type": "markdown",
   "metadata": {},
   "source": [
    "## Sales/traffic Data"
   ]
  },
  {
   "cell_type": "markdown",
   "metadata": {},
   "source": [
    "### Merge (if not done before)"
   ]
  },
  {
   "cell_type": "code",
   "execution_count": 19,
   "metadata": {},
   "outputs": [],
   "source": [
    "sales_clean = pd.read_csv('data/1208_Lancaster_sales_cleaned.csv')"
   ]
  },
  {
   "cell_type": "code",
   "execution_count": null,
   "metadata": {},
   "outputs": [],
   "source": [
    "# sales_clean.head(3)"
   ]
  },
  {
   "cell_type": "code",
   "execution_count": 21,
   "metadata": {},
   "outputs": [],
   "source": [
    "sales_clean.date = pd.to_datetime(sales_clean.date, format='%Y-%m-%d')\n",
    "sales_clean = sales_clean[['date', 'sales_original', 'sales_cleaned']]"
   ]
  },
  {
   "cell_type": "code",
   "execution_count": 22,
   "metadata": {},
   "outputs": [],
   "source": [
    "traffic_clean = pd.read_csv('data/1208_Lancaster_traffic_cleaned.csv')"
   ]
  },
  {
   "cell_type": "code",
   "execution_count": null,
   "metadata": {},
   "outputs": [],
   "source": [
    "# traffic_clean.head(3)"
   ]
  },
  {
   "cell_type": "code",
   "execution_count": 23,
   "metadata": {},
   "outputs": [],
   "source": [
    "traffic_clean.date = pd.to_datetime(traffic_clean.date, format='%Y-%m-%d')\n",
    "traffic_clean = traffic_clean[['date', 'traffic_original', 'traffic_cleaned']]"
   ]
  },
  {
   "cell_type": "code",
   "execution_count": 24,
   "metadata": {},
   "outputs": [],
   "source": [
    "assert sales_clean.shape[0] == traffic_clean.shape[0]"
   ]
  },
  {
   "cell_type": "code",
   "execution_count": 25,
   "metadata": {},
   "outputs": [],
   "source": [
    "sales_traffic_clean = pd.merge(sales_clean, traffic_clean, on='date')"
   ]
  },
  {
   "cell_type": "code",
   "execution_count": 27,
   "metadata": {},
   "outputs": [],
   "source": [
    "sales_traffic_clean.to_csv('sales_traffic_' + STORE_NAME + '.csv', index=False)"
   ]
  },
  {
   "cell_type": "markdown",
   "metadata": {},
   "source": [
    "### Read data (if merged before)"
   ]
  },
  {
   "cell_type": "code",
   "execution_count": 28,
   "metadata": {},
   "outputs": [],
   "source": [
    "sales_traffic_clean = pd.read_csv('sales_traffic_' + STORE_NAME + '.csv')"
   ]
  },
  {
   "cell_type": "code",
   "execution_count": 29,
   "metadata": {},
   "outputs": [
    {
     "data": {
      "text/html": [
       "<div>\n",
       "<style scoped>\n",
       "    .dataframe tbody tr th:only-of-type {\n",
       "        vertical-align: middle;\n",
       "    }\n",
       "\n",
       "    .dataframe tbody tr th {\n",
       "        vertical-align: top;\n",
       "    }\n",
       "\n",
       "    .dataframe thead th {\n",
       "        text-align: right;\n",
       "    }\n",
       "</style>\n",
       "<table border=\"1\" class=\"dataframe\">\n",
       "  <thead>\n",
       "    <tr style=\"text-align: right;\">\n",
       "      <th></th>\n",
       "      <th>date</th>\n",
       "      <th>sales_original</th>\n",
       "      <th>sales_cleaned</th>\n",
       "      <th>traffic_original</th>\n",
       "      <th>traffic_cleaned</th>\n",
       "    </tr>\n",
       "  </thead>\n",
       "  <tbody>\n",
       "    <tr>\n",
       "      <th>0</th>\n",
       "      <td>2017-08-25</td>\n",
       "      <td>0.0</td>\n",
       "      <td>-16421.263373</td>\n",
       "      <td>0</td>\n",
       "      <td>-6489.118281</td>\n",
       "    </tr>\n",
       "    <tr>\n",
       "      <th>1</th>\n",
       "      <td>2017-08-26</td>\n",
       "      <td>0.0</td>\n",
       "      <td>-29612.355292</td>\n",
       "      <td>265</td>\n",
       "      <td>-11523.259562</td>\n",
       "    </tr>\n",
       "    <tr>\n",
       "      <th>2</th>\n",
       "      <td>2017-08-27</td>\n",
       "      <td>0.0</td>\n",
       "      <td>-17170.788042</td>\n",
       "      <td>2055</td>\n",
       "      <td>-5957.016460</td>\n",
       "    </tr>\n",
       "  </tbody>\n",
       "</table>\n",
       "</div>"
      ],
      "text/plain": [
       "         date  sales_original  sales_cleaned  traffic_original  \\\n",
       "0  2017-08-25             0.0  -16421.263373                 0   \n",
       "1  2017-08-26             0.0  -29612.355292               265   \n",
       "2  2017-08-27             0.0  -17170.788042              2055   \n",
       "\n",
       "   traffic_cleaned  \n",
       "0     -6489.118281  \n",
       "1    -11523.259562  \n",
       "2     -5957.016460  "
      ]
     },
     "execution_count": 29,
     "metadata": {},
     "output_type": "execute_result"
    }
   ],
   "source": [
    "sales_traffic_clean.head(3)"
   ]
  },
  {
   "cell_type": "code",
   "execution_count": 31,
   "metadata": {},
   "outputs": [],
   "source": [
    "sales_traffic_clean.date = pd.to_datetime(sales_traffic_clean.date, format='%Y-%m-%d')"
   ]
  },
  {
   "cell_type": "code",
   "execution_count": 32,
   "metadata": {},
   "outputs": [],
   "source": [
    "# Constant date values\n",
    "DATE_MIN = sales_traffic_clean.date.min().normalize()\n",
    "DATE_MAX = sales_traffic_clean.date.max().normalize()"
   ]
  },
  {
   "cell_type": "code",
   "execution_count": 33,
   "metadata": {},
   "outputs": [
    {
     "data": {
      "text/plain": [
       "(Timestamp('2017-08-25 00:00:00'), Timestamp('2019-09-28 00:00:00'))"
      ]
     },
     "execution_count": 33,
     "metadata": {},
     "output_type": "execute_result"
    }
   ],
   "source": [
    "DATE_MIN, DATE_MAX"
   ]
  },
  {
   "cell_type": "markdown",
   "metadata": {},
   "source": [
    "## Events Data"
   ]
  },
  {
   "cell_type": "code",
   "execution_count": 35,
   "metadata": {},
   "outputs": [],
   "source": [
    "# Constant location for stores\n",
    "LAT_STORE, LON_STORE = {}, {}\n",
    "\n",
    "LAT_STORE['ORLANDO FOA'] = 28.473595\n",
    "LAT_STORE['LAKE BUENA VISTA FOA'] = 28.387852\n",
    "LAT_STORE['LANCASTER FSC'] = 40.025636\n",
    "LAT_STORE['LAS VEGAS NORTH'] = 36.170727\n",
    "LAT_STORE['LAS VEGAS SOUTH'] = 36.056725\n",
    "\n",
    "LON_STORE['ORLANDO FOA'] = -81.451615\n",
    "LON_STORE['LAKE BUENA VISTA FOA'] = -81.493674\n",
    "LON_STORE['LANCASTER FSC'] = -76.217167\n",
    "LON_STORE['LAS VEGAS NORTH'] = -115.157651\n",
    "LON_STORE['LAS VEGAS SOUTH'] = -115.170121"
   ]
  },
  {
   "cell_type": "code",
   "execution_count": 37,
   "metadata": {},
   "outputs": [],
   "source": [
    "events = pd.read_csv('events_' + CITY_NAME + '.csv')"
   ]
  },
  {
   "cell_type": "code",
   "execution_count": 38,
   "metadata": {},
   "outputs": [
    {
     "data": {
      "text/html": [
       "<div>\n",
       "<style scoped>\n",
       "    .dataframe tbody tr th:only-of-type {\n",
       "        vertical-align: middle;\n",
       "    }\n",
       "\n",
       "    .dataframe tbody tr th {\n",
       "        vertical-align: top;\n",
       "    }\n",
       "\n",
       "    .dataframe thead th {\n",
       "        text-align: right;\n",
       "    }\n",
       "</style>\n",
       "<table border=\"1\" class=\"dataframe\">\n",
       "  <thead>\n",
       "    <tr style=\"text-align: right;\">\n",
       "      <th></th>\n",
       "      <th>id</th>\n",
       "      <th>title</th>\n",
       "      <th>description</th>\n",
       "      <th>start</th>\n",
       "      <th>end</th>\n",
       "      <th>predicted_end</th>\n",
       "      <th>duration</th>\n",
       "      <th>labels</th>\n",
       "      <th>category</th>\n",
       "      <th>timezone</th>\n",
       "      <th>...</th>\n",
       "      <th>location</th>\n",
       "      <th>venue_name</th>\n",
       "      <th>venue_formatted_address</th>\n",
       "      <th>scope</th>\n",
       "      <th>rank</th>\n",
       "      <th>local_rank</th>\n",
       "      <th>aviation_rank</th>\n",
       "      <th>state</th>\n",
       "      <th>first_seen</th>\n",
       "      <th>venue_type</th>\n",
       "    </tr>\n",
       "  </thead>\n",
       "  <tbody>\n",
       "    <tr>\n",
       "      <th>0</th>\n",
       "      <td>lLvaYJOkkzk5</td>\n",
       "      <td>The Sweet Sorrows in Concert at Emmaus Road Cafe</td>\n",
       "      <td>\"Sammy and Kylie Horner, collectively known as...</td>\n",
       "      <td>2016-10-08T23:00:00Z</td>\n",
       "      <td>2016-10-09T02:00:00Z</td>\n",
       "      <td>NaN</td>\n",
       "      <td>10800</td>\n",
       "      <td>\"concert,music\"</td>\n",
       "      <td>concerts</td>\n",
       "      <td>America/New_York</td>\n",
       "      <td>...</td>\n",
       "      <td>\"40.033773,-76.250177\"</td>\n",
       "      <td>Emmaus Road Cafe</td>\n",
       "      <td>1886 Lincoln Highway East\\r\\nLancaster, PA 176...</td>\n",
       "      <td>locality</td>\n",
       "      <td>22</td>\n",
       "      <td>48.0</td>\n",
       "      <td>0.0</td>\n",
       "      <td>active</td>\n",
       "      <td>2016-10-05T03:27:43Z</td>\n",
       "      <td>indoor</td>\n",
       "    </tr>\n",
       "    <tr>\n",
       "      <th>1</th>\n",
       "      <td>n25dJ6BdMdYR</td>\n",
       "      <td>Rick Kilby-One man Band!</td>\n",
       "      <td>\"Rick Kilby knows how to have fun! Always a BI...</td>\n",
       "      <td>2016-10-08T23:00:00Z</td>\n",
       "      <td>2016-10-09T02:00:00Z</td>\n",
       "      <td>NaN</td>\n",
       "      <td>10800</td>\n",
       "      <td>\"food,performing-arts\"</td>\n",
       "      <td>performing-arts</td>\n",
       "      <td>America/New_York</td>\n",
       "      <td>...</td>\n",
       "      <td>\"40.033267,-76.498226\"</td>\n",
       "      <td>Prudhommes' Lost Cajun Kitchen</td>\n",
       "      <td>50 Lancaster Avenue\\r\\nColumbia, PA 17512\\r\\nU...</td>\n",
       "      <td>locality</td>\n",
       "      <td>22</td>\n",
       "      <td>43.0</td>\n",
       "      <td>NaN</td>\n",
       "      <td>active</td>\n",
       "      <td>2016-06-11T00:52:32Z</td>\n",
       "      <td>indoor</td>\n",
       "    </tr>\n",
       "    <tr>\n",
       "      <th>2</th>\n",
       "      <td>030e6833f057d76d21</td>\n",
       "      <td>Leif Erikson Day</td>\n",
       "      <td>\"Leif Erikson Day honors the first Scandinavia...</td>\n",
       "      <td>2016-10-09T00:00:00Z</td>\n",
       "      <td>2016-10-09T23:59:59Z</td>\n",
       "      <td>NaN</td>\n",
       "      <td>86399</td>\n",
       "      <td>\"holiday,observance\"</td>\n",
       "      <td>observances</td>\n",
       "      <td>NaN</td>\n",
       "      <td>...</td>\n",
       "      <td>\"37.09024,-95.712891\"</td>\n",
       "      <td>Leif Erikson Day</td>\n",
       "      <td>NaN</td>\n",
       "      <td>country</td>\n",
       "      <td>50</td>\n",
       "      <td>NaN</td>\n",
       "      <td>0.0</td>\n",
       "      <td>active</td>\n",
       "      <td>2015-01-06T12:35:08Z</td>\n",
       "      <td>outdoor</td>\n",
       "    </tr>\n",
       "    <tr>\n",
       "      <th>3</th>\n",
       "      <td>84bd4640e56317fad7</td>\n",
       "      <td>World Post Day</td>\n",
       "      <td>\"World Post Day marks the anniversary of the U...</td>\n",
       "      <td>2016-10-09T00:00:00Z</td>\n",
       "      <td>2016-10-09T23:59:59Z</td>\n",
       "      <td>NaN</td>\n",
       "      <td>86399</td>\n",
       "      <td>\"holiday,observance,observance-united-nations\"</td>\n",
       "      <td>observances</td>\n",
       "      <td>NaN</td>\n",
       "      <td>...</td>\n",
       "      <td>\"37.09024,-95.712891\"</td>\n",
       "      <td>World Post Day</td>\n",
       "      <td>NaN</td>\n",
       "      <td>country</td>\n",
       "      <td>50</td>\n",
       "      <td>NaN</td>\n",
       "      <td>0.0</td>\n",
       "      <td>active</td>\n",
       "      <td>2015-01-06T12:35:03Z</td>\n",
       "      <td>outdoor</td>\n",
       "    </tr>\n",
       "    <tr>\n",
       "      <th>4</th>\n",
       "      <td>paYvrEAaMVqn</td>\n",
       "      <td>J U FROZENWATER</td>\n",
       "      <td>NaN</td>\n",
       "      <td>2016-10-09T01:00:00Z</td>\n",
       "      <td>2016-10-09T01:00:00Z</td>\n",
       "      <td>NaN</td>\n",
       "      <td>0</td>\n",
       "      <td>\"concert,music\"</td>\n",
       "      <td>concerts</td>\n",
       "      <td>America/New_York</td>\n",
       "      <td>...</td>\n",
       "      <td>\"40.041523,-76.309029\"</td>\n",
       "      <td>Chameleon Club</td>\n",
       "      <td>223 N Water St\\r\\nLancaster, PA 17603\\r\\nUnite...</td>\n",
       "      <td>locality</td>\n",
       "      <td>50</td>\n",
       "      <td>63.0</td>\n",
       "      <td>NaN</td>\n",
       "      <td>active</td>\n",
       "      <td>2016-09-30T00:29:19Z</td>\n",
       "      <td>indoor</td>\n",
       "    </tr>\n",
       "  </tbody>\n",
       "</table>\n",
       "<p>5 rows × 21 columns</p>\n",
       "</div>"
      ],
      "text/plain": [
       "                   id                                             title  \\\n",
       "0        lLvaYJOkkzk5  The Sweet Sorrows in Concert at Emmaus Road Cafe   \n",
       "1        n25dJ6BdMdYR                          Rick Kilby-One man Band!   \n",
       "2  030e6833f057d76d21                                  Leif Erikson Day   \n",
       "3  84bd4640e56317fad7                                    World Post Day   \n",
       "4        paYvrEAaMVqn                                   J U FROZENWATER   \n",
       "\n",
       "                                         description                 start  \\\n",
       "0  \"Sammy and Kylie Horner, collectively known as...  2016-10-08T23:00:00Z   \n",
       "1  \"Rick Kilby knows how to have fun! Always a BI...  2016-10-08T23:00:00Z   \n",
       "2  \"Leif Erikson Day honors the first Scandinavia...  2016-10-09T00:00:00Z   \n",
       "3  \"World Post Day marks the anniversary of the U...  2016-10-09T00:00:00Z   \n",
       "4                                                NaN  2016-10-09T01:00:00Z   \n",
       "\n",
       "                    end predicted_end  duration  \\\n",
       "0  2016-10-09T02:00:00Z           NaN     10800   \n",
       "1  2016-10-09T02:00:00Z           NaN     10800   \n",
       "2  2016-10-09T23:59:59Z           NaN     86399   \n",
       "3  2016-10-09T23:59:59Z           NaN     86399   \n",
       "4  2016-10-09T01:00:00Z           NaN         0   \n",
       "\n",
       "                                           labels         category  \\\n",
       "0                                 \"concert,music\"         concerts   \n",
       "1                          \"food,performing-arts\"  performing-arts   \n",
       "2                            \"holiday,observance\"      observances   \n",
       "3  \"holiday,observance,observance-united-nations\"      observances   \n",
       "4                                 \"concert,music\"         concerts   \n",
       "\n",
       "           timezone  ...                location  \\\n",
       "0  America/New_York  ...  \"40.033773,-76.250177\"   \n",
       "1  America/New_York  ...  \"40.033267,-76.498226\"   \n",
       "2               NaN  ...   \"37.09024,-95.712891\"   \n",
       "3               NaN  ...   \"37.09024,-95.712891\"   \n",
       "4  America/New_York  ...  \"40.041523,-76.309029\"   \n",
       "\n",
       "                       venue_name  \\\n",
       "0                Emmaus Road Cafe   \n",
       "1  Prudhommes' Lost Cajun Kitchen   \n",
       "2                Leif Erikson Day   \n",
       "3                  World Post Day   \n",
       "4                  Chameleon Club   \n",
       "\n",
       "                             venue_formatted_address     scope rank  \\\n",
       "0  1886 Lincoln Highway East\\r\\nLancaster, PA 176...  locality   22   \n",
       "1  50 Lancaster Avenue\\r\\nColumbia, PA 17512\\r\\nU...  locality   22   \n",
       "2                                                NaN   country   50   \n",
       "3                                                NaN   country   50   \n",
       "4  223 N Water St\\r\\nLancaster, PA 17603\\r\\nUnite...  locality   50   \n",
       "\n",
       "   local_rank  aviation_rank   state            first_seen venue_type  \n",
       "0        48.0            0.0  active  2016-10-05T03:27:43Z     indoor  \n",
       "1        43.0            NaN  active  2016-06-11T00:52:32Z     indoor  \n",
       "2         NaN            0.0  active  2015-01-06T12:35:08Z    outdoor  \n",
       "3         NaN            0.0  active  2015-01-06T12:35:03Z    outdoor  \n",
       "4        63.0            NaN  active  2016-09-30T00:29:19Z     indoor  \n",
       "\n",
       "[5 rows x 21 columns]"
      ]
     },
     "execution_count": 38,
     "metadata": {},
     "output_type": "execute_result"
    }
   ],
   "source": [
    "events.head(5)"
   ]
  },
  {
   "cell_type": "code",
   "execution_count": 39,
   "metadata": {},
   "outputs": [
    {
     "name": "stdout",
     "output_type": "stream",
     "text": [
      "<class 'pandas.core.frame.DataFrame'>\n",
      "RangeIndex: 5093 entries, 0 to 5092\n",
      "Data columns (total 21 columns):\n",
      "id                         5093 non-null object\n",
      "title                      5093 non-null object\n",
      "description                2517 non-null object\n",
      "start                      5093 non-null object\n",
      "end                        5093 non-null object\n",
      "predicted_end              139 non-null object\n",
      "duration                   5093 non-null int64\n",
      "labels                     5093 non-null object\n",
      "category                   5093 non-null object\n",
      "timezone                   4123 non-null object\n",
      "country                    5093 non-null object\n",
      "location                   5093 non-null object\n",
      "venue_name                 4610 non-null object\n",
      "venue_formatted_address    3664 non-null object\n",
      "scope                      5093 non-null object\n",
      "rank                       5093 non-null int64\n",
      "local_rank                 3665 non-null float64\n",
      "aviation_rank              3124 non-null float64\n",
      "state                      5093 non-null object\n",
      "first_seen                 5093 non-null object\n",
      "venue_type                 4610 non-null object\n",
      "dtypes: float64(2), int64(2), object(17)\n",
      "memory usage: 835.6+ KB\n"
     ]
    }
   ],
   "source": [
    "events.info()"
   ]
  },
  {
   "cell_type": "code",
   "execution_count": 40,
   "metadata": {},
   "outputs": [
    {
     "data": {
      "text/plain": [
       "array(['concerts', 'performing-arts', 'observances', 'public-holidays',\n",
       "       'severe-weather', 'community', 'expos', 'conferences',\n",
       "       'airport-delays', 'festivals', 'daylight-savings', 'politics',\n",
       "       'disasters', 'school-holidays', 'sports'], dtype=object)"
      ]
     },
     "execution_count": 40,
     "metadata": {},
     "output_type": "execute_result"
    }
   ],
   "source": [
    "events.category.unique()"
   ]
  },
  {
   "cell_type": "code",
   "execution_count": 41,
   "metadata": {},
   "outputs": [
    {
     "data": {
      "text/plain": [
       "array(['America/New_York', nan, 'America/Chicago'], dtype=object)"
      ]
     },
     "execution_count": 41,
     "metadata": {},
     "output_type": "execute_result"
    }
   ],
   "source": [
    "events.timezone.unique()"
   ]
  },
  {
   "cell_type": "code",
   "execution_count": 42,
   "metadata": {},
   "outputs": [],
   "source": [
    "import mpu\n",
    "\n",
    "def draw_events_data(events, store_name, date_min=DATE_MIN, date_max=DATE_MAX, \n",
    "                     lat_store=LAT_STORE, lon_store=LON_STORE):\n",
    "    \n",
    "    def compute_time(df):\n",
    "        if df['start'].hour >= 12:\n",
    "            return 'pm'\n",
    "        else:\n",
    "            return 'am'\n",
    "    \n",
    "    def compute_dist(df, store_name):\n",
    "        return mpu.haversine_distance((df.latitude, df.longitude), \n",
    "                                      (lat_store[store_name], lon_store[store_name]))\n",
    "    \n",
    "    def compute_capacity(df):\n",
    "        # exp((rank + 19.769) / 9.6442) by reverse engineering\n",
    "        return np.exp((df['rank'] + 19.769) / 9.6442)\n",
    "    \n",
    "    def compute_impact(df, method):\n",
    "        if method == 'linear':\n",
    "            return df['rank'] / df['distance']\n",
    "        if method == 'exp':\n",
    "            return np.sqrt(np.exp(df['rank'])) / np.square(df['distance'])\n",
    "    \n",
    "    # Split location variable into longitude and latitude\n",
    "    lat = [float(events.location[i].strip(\"\\\"\").split(',')[0]) \\\n",
    "           for i in range(len(events))]\n",
    "    lon = [float(events.location[i].strip(\"\\\"\").split(',')[1]) \\\n",
    "           for i in range(len(events))]\n",
    "    events['longitude'] = lon\n",
    "    events['latitude'] = lat\n",
    "    \n",
    "    events.start = pd.to_datetime(events.start)\n",
    "    events.end = pd.to_datetime(events.end)\n",
    "    \n",
    "    # Extract time (am/pm)\n",
    "    events['start_time'] = events.apply(compute_time, axis=1)\n",
    "    \n",
    "    # Generate a date range for the events\n",
    "    events['start'] = events.start.dt.tz_localize(None).dt.normalize()\n",
    "    events['end'] = events.end.dt.tz_localize(None).dt.normalize()\n",
    "    \n",
    "    date_range = events.apply(lambda x: pd.date_range(x.start, x.end).tolist(), \n",
    "                              axis=1)\n",
    "    \n",
    "    events = events.drop(['id', 'start', 'end', 'predicted_end', \\\n",
    "                          'timezone', 'country', 'location', \\\n",
    "                          'venue_formatted_address', 'state', 'first_seen'], 1)\n",
    "    \n",
    "    events_by_date = pd.DataFrame(columns = events.columns)\n",
    "    dates_rearr = []\n",
    "    for i in range(len(events)):\n",
    "        for dates in date_range[i]:\n",
    "            if (dates <= date_max) & (dates >= date_min):\n",
    "                dates_rearr.append(dates)\n",
    "                events_by_date = events_by_date.append(events.iloc[i])\n",
    "    \n",
    "    # Aggregate new features\n",
    "    # Distance in miles\n",
    "    events_by_date['distance'] = events_by_date.apply(compute_dist, \n",
    "                                                  store_name=store_name, axis=1).div(1.609)\n",
    "    # Estimated capacity\n",
    "    events_by_date['est_capacity'] = events_by_date.apply(compute_capacity, axis=1)\n",
    "    # Impact\n",
    "    events_by_date['impact_linear'] = events_by_date.apply(compute_impact, method='linear', axis=1)\n",
    "    events_by_date['impact_exp'] = events_by_date.apply(compute_impact, method='exp', axis=1)\n",
    "    \n",
    "    events_by_date['date'] = dates_rearr\n",
    "    # Check if an event is annual\n",
    "    events_by_date['year'] = events_by_date.date.dt.year\n",
    "    is_annual = events_by_date.groupby('title')['year'].nunique().to_frame('is_annual').reset_index()\n",
    "    is_annual['is_annual'] = is_annual.eval('is_annual == 3').astype(int)\n",
    "    events_by_date = pd.merge(events_by_date, is_annual, on='title')\n",
    "    \n",
    "    # Reorganize the columns\n",
    "    cols = ['title', 'description', 'labels', 'category', \\\n",
    "            'date', 'year', 'is_annual', 'start_time', 'duration', \\\n",
    "            'venue_name', 'scope', 'venue_type', 'est_capacity', 'distance', 'longitude', 'latitude', \\\n",
    "            'rank', 'local_rank', 'aviation_rank', 'impact_linear', 'impact_exp']\n",
    "    events_by_date = events_by_date[cols]\n",
    "    \n",
    "    # For efficiency, write out the data\n",
    "    events_by_date.to_csv('events_' + store_name + '.csv', index=False)"
   ]
  },
  {
   "cell_type": "code",
   "execution_count": 43,
   "metadata": {},
   "outputs": [],
   "source": [
    "draw_events_data(events, STORE_NAME)"
   ]
  },
  {
   "cell_type": "code",
   "execution_count": 44,
   "metadata": {},
   "outputs": [],
   "source": [
    "events_by_date = pd.read_csv('events_' + STORE_NAME + '.csv')"
   ]
  },
  {
   "cell_type": "code",
   "execution_count": 45,
   "metadata": {},
   "outputs": [],
   "source": [
    "events_by_date.date = pd.to_datetime(events_by_date.date, format='%Y-%m-%d')"
   ]
  },
  {
   "cell_type": "code",
   "execution_count": 46,
   "metadata": {},
   "outputs": [
    {
     "data": {
      "text/html": [
       "<div>\n",
       "<style scoped>\n",
       "    .dataframe tbody tr th:only-of-type {\n",
       "        vertical-align: middle;\n",
       "    }\n",
       "\n",
       "    .dataframe tbody tr th {\n",
       "        vertical-align: top;\n",
       "    }\n",
       "\n",
       "    .dataframe thead th {\n",
       "        text-align: right;\n",
       "    }\n",
       "</style>\n",
       "<table border=\"1\" class=\"dataframe\">\n",
       "  <thead>\n",
       "    <tr style=\"text-align: right;\">\n",
       "      <th></th>\n",
       "      <th>title</th>\n",
       "      <th>description</th>\n",
       "      <th>labels</th>\n",
       "      <th>category</th>\n",
       "      <th>date</th>\n",
       "      <th>year</th>\n",
       "      <th>is_annual</th>\n",
       "      <th>start_time</th>\n",
       "      <th>duration</th>\n",
       "      <th>venue_name</th>\n",
       "      <th>...</th>\n",
       "      <th>venue_type</th>\n",
       "      <th>est_capacity</th>\n",
       "      <th>distance</th>\n",
       "      <th>longitude</th>\n",
       "      <th>latitude</th>\n",
       "      <th>rank</th>\n",
       "      <th>local_rank</th>\n",
       "      <th>aviation_rank</th>\n",
       "      <th>impact_linear</th>\n",
       "      <th>impact_exp</th>\n",
       "    </tr>\n",
       "  </thead>\n",
       "  <tbody>\n",
       "    <tr>\n",
       "      <th>0</th>\n",
       "      <td>The Women's Business Center at ASSETS #SheOwns...</td>\n",
       "      <td>\"Join the Women’s Business Center at ASSETS as...</td>\n",
       "      <td>\"business,conference\"</td>\n",
       "      <td>conferences</td>\n",
       "      <td>2017-08-25</td>\n",
       "      <td>2017</td>\n",
       "      <td>0</td>\n",
       "      <td>pm</td>\n",
       "      <td>10800</td>\n",
       "      <td>The Candy Factory</td>\n",
       "      <td>...</td>\n",
       "      <td>indoor</td>\n",
       "      <td>214.409880</td>\n",
       "      <td>4.934731</td>\n",
       "      <td>-76.307366</td>\n",
       "      <td>40.043784</td>\n",
       "      <td>32</td>\n",
       "      <td>45.0</td>\n",
       "      <td>0.0</td>\n",
       "      <td>6.484649</td>\n",
       "      <td>3.649091e+05</td>\n",
       "    </tr>\n",
       "    <tr>\n",
       "      <th>1</th>\n",
       "      <td>HAZMAT - North-America - USA</td>\n",
       "      <td>\"Seven people were injured in a hazardous mate...</td>\n",
       "      <td>\"disaster,hazmat\"</td>\n",
       "      <td>disasters</td>\n",
       "      <td>2017-08-25</td>\n",
       "      <td>2017</td>\n",
       "      <td>1</td>\n",
       "      <td>pm</td>\n",
       "      <td>0</td>\n",
       "      <td>NaN</td>\n",
       "      <td>...</td>\n",
       "      <td>NaN</td>\n",
       "      <td>1386.165056</td>\n",
       "      <td>11.841313</td>\n",
       "      <td>-76.382741</td>\n",
       "      <td>40.141008</td>\n",
       "      <td>50</td>\n",
       "      <td>NaN</td>\n",
       "      <td>NaN</td>\n",
       "      <td>4.222505</td>\n",
       "      <td>5.135259e+08</td>\n",
       "    </tr>\n",
       "    <tr>\n",
       "      <th>2</th>\n",
       "      <td>HAZMAT - North-America - USA</td>\n",
       "      <td>\"One person was injured and a school sheltered...</td>\n",
       "      <td>\"disaster,hazmat\"</td>\n",
       "      <td>disasters</td>\n",
       "      <td>2018-10-16</td>\n",
       "      <td>2018</td>\n",
       "      <td>1</td>\n",
       "      <td>am</td>\n",
       "      <td>0</td>\n",
       "      <td>NaN</td>\n",
       "      <td>...</td>\n",
       "      <td>NaN</td>\n",
       "      <td>11026.773414</td>\n",
       "      <td>11.236597</td>\n",
       "      <td>-76.172368</td>\n",
       "      <td>40.184579</td>\n",
       "      <td>70</td>\n",
       "      <td>NaN</td>\n",
       "      <td>NaN</td>\n",
       "      <td>6.229644</td>\n",
       "      <td>1.256138e+13</td>\n",
       "    </tr>\n",
       "  </tbody>\n",
       "</table>\n",
       "<p>3 rows × 21 columns</p>\n",
       "</div>"
      ],
      "text/plain": [
       "                                               title  \\\n",
       "0  The Women's Business Center at ASSETS #SheOwns...   \n",
       "1                       HAZMAT - North-America - USA   \n",
       "2                       HAZMAT - North-America - USA   \n",
       "\n",
       "                                         description                 labels  \\\n",
       "0  \"Join the Women’s Business Center at ASSETS as...  \"business,conference\"   \n",
       "1  \"Seven people were injured in a hazardous mate...      \"disaster,hazmat\"   \n",
       "2  \"One person was injured and a school sheltered...      \"disaster,hazmat\"   \n",
       "\n",
       "      category       date  year  is_annual start_time  duration  \\\n",
       "0  conferences 2017-08-25  2017          0         pm     10800   \n",
       "1    disasters 2017-08-25  2017          1         pm         0   \n",
       "2    disasters 2018-10-16  2018          1         am         0   \n",
       "\n",
       "          venue_name  ... venue_type  est_capacity   distance  longitude  \\\n",
       "0  The Candy Factory  ...     indoor    214.409880   4.934731 -76.307366   \n",
       "1                NaN  ...        NaN   1386.165056  11.841313 -76.382741   \n",
       "2                NaN  ...        NaN  11026.773414  11.236597 -76.172368   \n",
       "\n",
       "    latitude  rank  local_rank  aviation_rank  impact_linear    impact_exp  \n",
       "0  40.043784    32        45.0            0.0       6.484649  3.649091e+05  \n",
       "1  40.141008    50         NaN            NaN       4.222505  5.135259e+08  \n",
       "2  40.184579    70         NaN            NaN       6.229644  1.256138e+13  \n",
       "\n",
       "[3 rows x 21 columns]"
      ]
     },
     "execution_count": 46,
     "metadata": {},
     "output_type": "execute_result"
    }
   ],
   "source": [
    "events_by_date.head(3)"
   ]
  },
  {
   "cell_type": "code",
   "execution_count": 47,
   "metadata": {},
   "outputs": [
    {
     "name": "stdout",
     "output_type": "stream",
     "text": [
      "<class 'pandas.core.frame.DataFrame'>\n",
      "RangeIndex: 4305 entries, 0 to 4304\n",
      "Data columns (total 21 columns):\n",
      "title            4305 non-null object\n",
      "description      2030 non-null object\n",
      "labels           4305 non-null object\n",
      "category         4305 non-null object\n",
      "date             4305 non-null datetime64[ns]\n",
      "year             4305 non-null int64\n",
      "is_annual        4305 non-null int64\n",
      "start_time       4305 non-null object\n",
      "duration         4305 non-null int64\n",
      "venue_name       3603 non-null object\n",
      "scope            4305 non-null object\n",
      "venue_type       3603 non-null object\n",
      "est_capacity     4305 non-null float64\n",
      "distance         4305 non-null float64\n",
      "longitude        4305 non-null float64\n",
      "latitude         4305 non-null float64\n",
      "rank             4305 non-null int64\n",
      "local_rank       2914 non-null float64\n",
      "aviation_rank    2661 non-null float64\n",
      "impact_linear    4305 non-null float64\n",
      "impact_exp       4305 non-null float64\n",
      "dtypes: datetime64[ns](1), float64(8), int64(4), object(8)\n",
      "memory usage: 706.4+ KB\n"
     ]
    }
   ],
   "source": [
    "events_by_date.info()"
   ]
  }
 ],
 "metadata": {
  "kernelspec": {
   "display_name": "Python 3",
   "language": "python",
   "name": "python3"
  },
  "language_info": {
   "codemirror_mode": {
    "name": "ipython",
    "version": 3
   },
   "file_extension": ".py",
   "mimetype": "text/x-python",
   "name": "python",
   "nbconvert_exporter": "python",
   "pygments_lexer": "ipython3",
   "version": "3.7.2"
  }
 },
 "nbformat": 4,
 "nbformat_minor": 2
}
