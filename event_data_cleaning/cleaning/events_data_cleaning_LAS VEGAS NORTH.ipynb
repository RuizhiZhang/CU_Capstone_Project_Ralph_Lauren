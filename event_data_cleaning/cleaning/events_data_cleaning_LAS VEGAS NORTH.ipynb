{
 "cells": [
  {
   "cell_type": "markdown",
   "metadata": {},
   "source": [
    "# Data preparation"
   ]
  },
  {
   "cell_type": "code",
   "execution_count": 1,
   "metadata": {},
   "outputs": [],
   "source": [
    "import pandas as pd\n",
    "import numpy as np\n",
    "import matplotlib.pyplot as plt\n",
    "import seaborn as sns"
   ]
  },
  {
   "cell_type": "markdown",
   "metadata": {},
   "source": [
    "## Sales/traffic Data"
   ]
  },
  {
   "cell_type": "markdown",
   "metadata": {},
   "source": [
    "### Merge (if not done before)"
   ]
  },
  {
   "cell_type": "code",
   "execution_count": null,
   "metadata": {},
   "outputs": [],
   "source": [
    "# sales_clean = pd.read_csv('data/1208_LasVegas_South_sales_cleaned.csv')"
   ]
  },
  {
   "cell_type": "code",
   "execution_count": null,
   "metadata": {},
   "outputs": [],
   "source": [
    "# sales_clean.head(3)"
   ]
  },
  {
   "cell_type": "code",
   "execution_count": null,
   "metadata": {},
   "outputs": [],
   "source": [
    "# sales_clean.date = pd.to_datetime(sales_clean.date, format='%m/%d/%y')\n",
    "# sales_clean = sales_clean[['date', 'sales_original', 'sales_cleaned']]"
   ]
  },
  {
   "cell_type": "code",
   "execution_count": null,
   "metadata": {},
   "outputs": [],
   "source": [
    "# traffic_clean = pd.read_csv('data/1208_LasVegas_South_traffic_cleaned.csv')"
   ]
  },
  {
   "cell_type": "code",
   "execution_count": null,
   "metadata": {},
   "outputs": [],
   "source": [
    "# traffic_clean.head(3)"
   ]
  },
  {
   "cell_type": "code",
   "execution_count": null,
   "metadata": {},
   "outputs": [],
   "source": [
    "# traffic_clean.date = pd.to_datetime(traffic_clean.date, format='%m/%d/%y')\n",
    "# traffic_clean = traffic_clean[['date', 'traffic_original', 'traffic_cleaned']]"
   ]
  },
  {
   "cell_type": "code",
   "execution_count": null,
   "metadata": {},
   "outputs": [],
   "source": [
    "# assert sales_clean.shape[0] == traffic_clean.shape[0]"
   ]
  },
  {
   "cell_type": "code",
   "execution_count": null,
   "metadata": {},
   "outputs": [],
   "source": [
    "# sales_traffic_clean = pd.merge(sales_clean, traffic_clean, on='date')"
   ]
  },
  {
   "cell_type": "code",
   "execution_count": null,
   "metadata": {},
   "outputs": [],
   "source": [
    "# sales_traffic_clean.info()"
   ]
  },
  {
   "cell_type": "markdown",
   "metadata": {},
   "source": [
    "### Read data (if merged before)"
   ]
  },
  {
   "cell_type": "code",
   "execution_count": 11,
   "metadata": {},
   "outputs": [],
   "source": [
    "CITY_NAME = 'LAS VEGAS'\n",
    "STORE_NAME = 'LAS VEGAS NORTH'"
   ]
  },
  {
   "cell_type": "code",
   "execution_count": 12,
   "metadata": {},
   "outputs": [],
   "source": [
    "sales_traffic_clean = pd.read_csv('sales_traffic_' + STORE_NAME + '.csv')"
   ]
  },
  {
   "cell_type": "code",
   "execution_count": 13,
   "metadata": {},
   "outputs": [
    {
     "data": {
      "text/html": [
       "<div>\n",
       "<style scoped>\n",
       "    .dataframe tbody tr th:only-of-type {\n",
       "        vertical-align: middle;\n",
       "    }\n",
       "\n",
       "    .dataframe tbody tr th {\n",
       "        vertical-align: top;\n",
       "    }\n",
       "\n",
       "    .dataframe thead th {\n",
       "        text-align: right;\n",
       "    }\n",
       "</style>\n",
       "<table border=\"1\" class=\"dataframe\">\n",
       "  <thead>\n",
       "    <tr style=\"text-align: right;\">\n",
       "      <th></th>\n",
       "      <th>date</th>\n",
       "      <th>sales_original</th>\n",
       "      <th>sales_cleaned</th>\n",
       "      <th>traffic_original</th>\n",
       "      <th>traffic_cleaned</th>\n",
       "    </tr>\n",
       "  </thead>\n",
       "  <tbody>\n",
       "    <tr>\n",
       "      <th>0</th>\n",
       "      <td>2017-04-02</td>\n",
       "      <td>46959.20</td>\n",
       "      <td>-97.997967</td>\n",
       "      <td>18808</td>\n",
       "      <td>5.189443</td>\n",
       "    </tr>\n",
       "    <tr>\n",
       "      <th>1</th>\n",
       "      <td>2017-04-03</td>\n",
       "      <td>71064.00</td>\n",
       "      <td>-57.116316</td>\n",
       "      <td>24240</td>\n",
       "      <td>1.124562</td>\n",
       "    </tr>\n",
       "    <tr>\n",
       "      <th>2</th>\n",
       "      <td>2017-04-04</td>\n",
       "      <td>68380.46</td>\n",
       "      <td>-34.693893</td>\n",
       "      <td>22968</td>\n",
       "      <td>-8.954464</td>\n",
       "    </tr>\n",
       "  </tbody>\n",
       "</table>\n",
       "</div>"
      ],
      "text/plain": [
       "         date  sales_original  sales_cleaned  traffic_original  \\\n",
       "0  2017-04-02        46959.20     -97.997967             18808   \n",
       "1  2017-04-03        71064.00     -57.116316             24240   \n",
       "2  2017-04-04        68380.46     -34.693893             22968   \n",
       "\n",
       "   traffic_cleaned  \n",
       "0         5.189443  \n",
       "1         1.124562  \n",
       "2        -8.954464  "
      ]
     },
     "execution_count": 13,
     "metadata": {},
     "output_type": "execute_result"
    }
   ],
   "source": [
    "sales_traffic_clean.head(3)"
   ]
  },
  {
   "cell_type": "code",
   "execution_count": 14,
   "metadata": {},
   "outputs": [],
   "source": [
    "sales_traffic_clean.date = pd.to_datetime(sales_traffic_clean.date, format='%Y-%m-%d')"
   ]
  },
  {
   "cell_type": "code",
   "execution_count": 15,
   "metadata": {},
   "outputs": [],
   "source": [
    "# Constant date values\n",
    "DATE_MIN = sales_traffic_clean.date.min().normalize()\n",
    "DATE_MAX = sales_traffic_clean.date.max().normalize()"
   ]
  },
  {
   "cell_type": "code",
   "execution_count": 16,
   "metadata": {},
   "outputs": [
    {
     "data": {
      "text/plain": [
       "(Timestamp('2017-04-02 00:00:00'), Timestamp('2019-09-28 00:00:00'))"
      ]
     },
     "execution_count": 16,
     "metadata": {},
     "output_type": "execute_result"
    }
   ],
   "source": [
    "DATE_MIN, DATE_MAX"
   ]
  },
  {
   "cell_type": "markdown",
   "metadata": {},
   "source": [
    "## Events Data"
   ]
  },
  {
   "cell_type": "code",
   "execution_count": 22,
   "metadata": {},
   "outputs": [],
   "source": [
    "# Constant location for stores\n",
    "LAT_STORE, LON_STORE = {}, {}\n",
    "\n",
    "LAT_STORE['ORLANDO FOA'] = 28.473595\n",
    "LAT_STORE['LAKE BUENA VISTA FOA'] = 28.387852\n",
    "LAT_STORE['LANCASTER FSC'] = 40.025636\n",
    "LAT_STORE['LAS VEGAS NORTH'] = 36.170727\n",
    "LAT_STORE['LAS VEGAS SOUTH'] = 36.056725\n",
    "\n",
    "LON_STORE['ORLANDO FOA'] = -81.451615\n",
    "LON_STORE['LAKE BUENA VISTA FOA'] = -81.493674\n",
    "LON_STORE['LANCASTER FSC'] = -76.217167\n",
    "LON_STORE['LAS VEGAS NORTH'] = -115.157651\n",
    "LON_STORE['LAS VEGAS SOUTH'] = -115.170121"
   ]
  },
  {
   "cell_type": "code",
   "execution_count": 17,
   "metadata": {},
   "outputs": [],
   "source": [
    "events = pd.read_csv('events_' + CITY_NAME + '.csv')"
   ]
  },
  {
   "cell_type": "code",
   "execution_count": 18,
   "metadata": {},
   "outputs": [
    {
     "data": {
      "text/html": [
       "<div>\n",
       "<style scoped>\n",
       "    .dataframe tbody tr th:only-of-type {\n",
       "        vertical-align: middle;\n",
       "    }\n",
       "\n",
       "    .dataframe tbody tr th {\n",
       "        vertical-align: top;\n",
       "    }\n",
       "\n",
       "    .dataframe thead th {\n",
       "        text-align: right;\n",
       "    }\n",
       "</style>\n",
       "<table border=\"1\" class=\"dataframe\">\n",
       "  <thead>\n",
       "    <tr style=\"text-align: right;\">\n",
       "      <th></th>\n",
       "      <th>id</th>\n",
       "      <th>title</th>\n",
       "      <th>description</th>\n",
       "      <th>start</th>\n",
       "      <th>end</th>\n",
       "      <th>predicted_end</th>\n",
       "      <th>duration</th>\n",
       "      <th>labels</th>\n",
       "      <th>category</th>\n",
       "      <th>timezone</th>\n",
       "      <th>...</th>\n",
       "      <th>location</th>\n",
       "      <th>venue_name</th>\n",
       "      <th>venue_formatted_address</th>\n",
       "      <th>scope</th>\n",
       "      <th>rank</th>\n",
       "      <th>local_rank</th>\n",
       "      <th>aviation_rank</th>\n",
       "      <th>state</th>\n",
       "      <th>first_seen</th>\n",
       "      <th>venue_type</th>\n",
       "    </tr>\n",
       "  </thead>\n",
       "  <tbody>\n",
       "    <tr>\n",
       "      <th>0</th>\n",
       "      <td>QMkyB7YCXgZQqsWB8e</td>\n",
       "      <td>Seventh-day Adventist Attorneys' Conference &amp; ...</td>\n",
       "      <td>\"Keynote Speaker: Judge James E. Graves, Jr., ...</td>\n",
       "      <td>2016-07-27T22:00:00Z</td>\n",
       "      <td>2016-10-23T19:00:00Z</td>\n",
       "      <td>NaN</td>\n",
       "      <td>7592400</td>\n",
       "      <td>\"community,education\"</td>\n",
       "      <td>community</td>\n",
       "      <td>America/Los_Angeles</td>\n",
       "      <td>...</td>\n",
       "      <td>\"36.10212,-114.932817\"</td>\n",
       "      <td>Spa Ravella at Hilton Lake Las Vegas</td>\n",
       "      <td>1610 Lake Las Vegas Parkway\\nHenderson, NV 890...</td>\n",
       "      <td>locality</td>\n",
       "      <td>21</td>\n",
       "      <td>54.0</td>\n",
       "      <td>NaN</td>\n",
       "      <td>active</td>\n",
       "      <td>2017-12-26T08:03:43Z</td>\n",
       "      <td>indoor</td>\n",
       "    </tr>\n",
       "    <tr>\n",
       "      <th>1</th>\n",
       "      <td>nvABpR9LXwwk</td>\n",
       "      <td>West Excellence: WRBLSA Academic Retreat</td>\n",
       "      <td>\"We cordially invite you to participate in the...</td>\n",
       "      <td>2016-10-07T15:00:00Z</td>\n",
       "      <td>2016-10-09T03:00:00Z</td>\n",
       "      <td>NaN</td>\n",
       "      <td>129600</td>\n",
       "      <td>\"conference,education,family\"</td>\n",
       "      <td>conferences</td>\n",
       "      <td>America/Los_Angeles</td>\n",
       "      <td>...</td>\n",
       "      <td>\"36.106732,-115.143628\"</td>\n",
       "      <td>NaN</td>\n",
       "      <td>NaN</td>\n",
       "      <td>locality</td>\n",
       "      <td>37</td>\n",
       "      <td>52.0</td>\n",
       "      <td>0.0</td>\n",
       "      <td>active</td>\n",
       "      <td>2016-09-04T00:02:42Z</td>\n",
       "      <td>NaN</td>\n",
       "    </tr>\n",
       "    <tr>\n",
       "      <th>2</th>\n",
       "      <td>PlVJdqVPJzXm</td>\n",
       "      <td>Life Benefits Wealth Summit 2016</td>\n",
       "      <td>\"About The Wealth SummitThis Wealth Summit is ...</td>\n",
       "      <td>2016-10-07T15:00:00Z</td>\n",
       "      <td>2016-10-09T21:00:00Z</td>\n",
       "      <td>NaN</td>\n",
       "      <td>194400</td>\n",
       "      <td>\"business,conference\"</td>\n",
       "      <td>conferences</td>\n",
       "      <td>America/Los_Angeles</td>\n",
       "      <td>...</td>\n",
       "      <td>\"36.020702,-115.089629\"</td>\n",
       "      <td>Green Valley Ranch Resort Spa &amp; Casino</td>\n",
       "      <td>2300 Paseo Verde Parkway\\nHenderson, NV 89052\\...</td>\n",
       "      <td>locality</td>\n",
       "      <td>42</td>\n",
       "      <td>63.0</td>\n",
       "      <td>0.0</td>\n",
       "      <td>active</td>\n",
       "      <td>2016-08-03T03:38:16Z</td>\n",
       "      <td>indoor</td>\n",
       "    </tr>\n",
       "    <tr>\n",
       "      <th>3</th>\n",
       "      <td>1KA12OQWR3pl</td>\n",
       "      <td>TIA Technical Conference</td>\n",
       "      <td>NaN</td>\n",
       "      <td>2016-10-07T16:00:00Z</td>\n",
       "      <td>2016-10-09T01:00:00Z</td>\n",
       "      <td>NaN</td>\n",
       "      <td>118800</td>\n",
       "      <td>\"conference,education\"</td>\n",
       "      <td>conferences</td>\n",
       "      <td>America/Los_Angeles</td>\n",
       "      <td>...</td>\n",
       "      <td>\"36.130707,-115.151831\"</td>\n",
       "      <td>Las Vegas Convention Center</td>\n",
       "      <td>3150 Paradise Road\\nLas Vegas, NV 89109\\nUnite...</td>\n",
       "      <td>locality</td>\n",
       "      <td>44</td>\n",
       "      <td>58.0</td>\n",
       "      <td>0.0</td>\n",
       "      <td>active</td>\n",
       "      <td>2017-07-28T00:53:30Z</td>\n",
       "      <td>indoor</td>\n",
       "    </tr>\n",
       "    <tr>\n",
       "      <th>4</th>\n",
       "      <td>TA5fR5zPt5VCF6H3JY</td>\n",
       "      <td>International Baking Industry Exposition</td>\n",
       "      <td>NaN</td>\n",
       "      <td>2016-10-08T07:00:00Z</td>\n",
       "      <td>2016-10-12T06:59:59Z</td>\n",
       "      <td>NaN</td>\n",
       "      <td>345599</td>\n",
       "      <td>\"expo,food\"</td>\n",
       "      <td>expos</td>\n",
       "      <td>America/Los_Angeles</td>\n",
       "      <td>...</td>\n",
       "      <td>\"36.131324,-115.150362\"</td>\n",
       "      <td>NaN</td>\n",
       "      <td>NaN</td>\n",
       "      <td>locality</td>\n",
       "      <td>77</td>\n",
       "      <td>92.0</td>\n",
       "      <td>76.0</td>\n",
       "      <td>active</td>\n",
       "      <td>2019-09-11T23:20:23Z</td>\n",
       "      <td>NaN</td>\n",
       "    </tr>\n",
       "  </tbody>\n",
       "</table>\n",
       "<p>5 rows × 21 columns</p>\n",
       "</div>"
      ],
      "text/plain": [
       "                   id                                              title  \\\n",
       "0  QMkyB7YCXgZQqsWB8e  Seventh-day Adventist Attorneys' Conference & ...   \n",
       "1        nvABpR9LXwwk           West Excellence: WRBLSA Academic Retreat   \n",
       "2        PlVJdqVPJzXm                   Life Benefits Wealth Summit 2016   \n",
       "3        1KA12OQWR3pl                           TIA Technical Conference   \n",
       "4  TA5fR5zPt5VCF6H3JY           International Baking Industry Exposition   \n",
       "\n",
       "                                         description                 start  \\\n",
       "0  \"Keynote Speaker: Judge James E. Graves, Jr., ...  2016-07-27T22:00:00Z   \n",
       "1  \"We cordially invite you to participate in the...  2016-10-07T15:00:00Z   \n",
       "2  \"About The Wealth SummitThis Wealth Summit is ...  2016-10-07T15:00:00Z   \n",
       "3                                                NaN  2016-10-07T16:00:00Z   \n",
       "4                                                NaN  2016-10-08T07:00:00Z   \n",
       "\n",
       "                    end predicted_end  duration  \\\n",
       "0  2016-10-23T19:00:00Z           NaN   7592400   \n",
       "1  2016-10-09T03:00:00Z           NaN    129600   \n",
       "2  2016-10-09T21:00:00Z           NaN    194400   \n",
       "3  2016-10-09T01:00:00Z           NaN    118800   \n",
       "4  2016-10-12T06:59:59Z           NaN    345599   \n",
       "\n",
       "                          labels     category             timezone  ...  \\\n",
       "0          \"community,education\"    community  America/Los_Angeles  ...   \n",
       "1  \"conference,education,family\"  conferences  America/Los_Angeles  ...   \n",
       "2          \"business,conference\"  conferences  America/Los_Angeles  ...   \n",
       "3         \"conference,education\"  conferences  America/Los_Angeles  ...   \n",
       "4                    \"expo,food\"        expos  America/Los_Angeles  ...   \n",
       "\n",
       "                  location                              venue_name  \\\n",
       "0   \"36.10212,-114.932817\"    Spa Ravella at Hilton Lake Las Vegas   \n",
       "1  \"36.106732,-115.143628\"                                     NaN   \n",
       "2  \"36.020702,-115.089629\"  Green Valley Ranch Resort Spa & Casino   \n",
       "3  \"36.130707,-115.151831\"             Las Vegas Convention Center   \n",
       "4  \"36.131324,-115.150362\"                                     NaN   \n",
       "\n",
       "                             venue_formatted_address     scope rank  \\\n",
       "0  1610 Lake Las Vegas Parkway\\nHenderson, NV 890...  locality   21   \n",
       "1                                                NaN  locality   37   \n",
       "2  2300 Paseo Verde Parkway\\nHenderson, NV 89052\\...  locality   42   \n",
       "3  3150 Paradise Road\\nLas Vegas, NV 89109\\nUnite...  locality   44   \n",
       "4                                                NaN  locality   77   \n",
       "\n",
       "   local_rank  aviation_rank   state            first_seen venue_type  \n",
       "0        54.0            NaN  active  2017-12-26T08:03:43Z     indoor  \n",
       "1        52.0            0.0  active  2016-09-04T00:02:42Z        NaN  \n",
       "2        63.0            0.0  active  2016-08-03T03:38:16Z     indoor  \n",
       "3        58.0            0.0  active  2017-07-28T00:53:30Z     indoor  \n",
       "4        92.0           76.0  active  2019-09-11T23:20:23Z        NaN  \n",
       "\n",
       "[5 rows x 21 columns]"
      ]
     },
     "execution_count": 18,
     "metadata": {},
     "output_type": "execute_result"
    }
   ],
   "source": [
    "events.head(5)"
   ]
  },
  {
   "cell_type": "code",
   "execution_count": 19,
   "metadata": {},
   "outputs": [
    {
     "name": "stdout",
     "output_type": "stream",
     "text": [
      "<class 'pandas.core.frame.DataFrame'>\n",
      "RangeIndex: 99076 entries, 0 to 99075\n",
      "Data columns (total 21 columns):\n",
      "id                         99076 non-null object\n",
      "title                      99076 non-null object\n",
      "description                30641 non-null object\n",
      "start                      99076 non-null object\n",
      "end                        99076 non-null object\n",
      "predicted_end              730 non-null object\n",
      "duration                   99076 non-null int64\n",
      "labels                     99076 non-null object\n",
      "category                   99076 non-null object\n",
      "timezone                   98106 non-null object\n",
      "country                    99076 non-null object\n",
      "location                   99076 non-null object\n",
      "venue_name                 91581 non-null object\n",
      "venue_formatted_address    90328 non-null object\n",
      "scope                      99076 non-null object\n",
      "rank                       99076 non-null int64\n",
      "local_rank                 97422 non-null float64\n",
      "aviation_rank              44424 non-null float64\n",
      "state                      99076 non-null object\n",
      "first_seen                 99075 non-null object\n",
      "venue_type                 91581 non-null object\n",
      "dtypes: float64(2), int64(2), object(17)\n",
      "memory usage: 15.9+ MB\n"
     ]
    }
   ],
   "source": [
    "events.info()"
   ]
  },
  {
   "cell_type": "code",
   "execution_count": 20,
   "metadata": {},
   "outputs": [
    {
     "data": {
      "text/plain": [
       "array(['community', 'conferences', 'expos', 'observances',\n",
       "       'performing-arts', 'concerts', 'festivals', 'sports', 'disasters',\n",
       "       'airport-delays', 'public-holidays', 'daylight-savings',\n",
       "       'politics', 'severe-weather', 'school-holidays', 'terror'],\n",
       "      dtype=object)"
      ]
     },
     "execution_count": 20,
     "metadata": {},
     "output_type": "execute_result"
    }
   ],
   "source": [
    "events.category.unique()"
   ]
  },
  {
   "cell_type": "code",
   "execution_count": 21,
   "metadata": {},
   "outputs": [
    {
     "data": {
      "text/plain": [
       "array(['America/Los_Angeles', nan, 'America/Chicago'], dtype=object)"
      ]
     },
     "execution_count": 21,
     "metadata": {},
     "output_type": "execute_result"
    }
   ],
   "source": [
    "events.timezone.unique()"
   ]
  },
  {
   "cell_type": "code",
   "execution_count": 23,
   "metadata": {},
   "outputs": [],
   "source": [
    "import mpu\n",
    "\n",
    "def draw_events_data(events, store_name, date_min=DATE_MIN, date_max=DATE_MAX, \n",
    "                     lat_store=LAT_STORE, lon_store=LON_STORE):\n",
    "    \n",
    "    def compute_time(df):\n",
    "        if df['start'].hour >= 12:\n",
    "            return 'pm'\n",
    "        else:\n",
    "            return 'am'\n",
    "    \n",
    "    def compute_dist(df, store_name):\n",
    "        return mpu.haversine_distance((df.latitude, df.longitude), \n",
    "                                      (lat_store[store_name], lon_store[store_name]))\n",
    "    \n",
    "    def compute_capacity(df):\n",
    "        # exp((rank + 19.769) / 9.6442) by reverse engineering\n",
    "        return np.exp((df['rank'] + 19.769) / 9.6442)\n",
    "    \n",
    "    def compute_impact(df, method):\n",
    "        if method == 'linear':\n",
    "            return df['rank'] / df['distance']\n",
    "        if method == 'exp':\n",
    "            return np.sqrt(np.exp(df['rank'])) / np.square(df['distance'])\n",
    "    \n",
    "    # Split location variable into longitude and latitude\n",
    "    lat = [float(events.location[i].strip(\"\\\"\").split(',')[0]) \\\n",
    "           for i in range(len(events))]\n",
    "    lon = [float(events.location[i].strip(\"\\\"\").split(',')[1]) \\\n",
    "           for i in range(len(events))]\n",
    "    events['longitude'] = lon\n",
    "    events['latitude'] = lat\n",
    "    \n",
    "    events.start = pd.to_datetime(events.start)\n",
    "    events.end = pd.to_datetime(events.end)\n",
    "    \n",
    "    # Extract time (am/pm)\n",
    "    events['start_time'] = events.apply(compute_time, axis=1)\n",
    "    \n",
    "    # Generate a date range for the events\n",
    "    events['start'] = events.start.dt.tz_localize(None).dt.normalize()\n",
    "    events['end'] = events.end.dt.tz_localize(None).dt.normalize()\n",
    "    \n",
    "    date_range = events.apply(lambda x: pd.date_range(x.start, x.end).tolist(), \n",
    "                              axis=1)\n",
    "    \n",
    "    events = events.drop(['id', 'start', 'end', 'predicted_end', \\\n",
    "                          'timezone', 'country', 'location', \\\n",
    "                          'venue_formatted_address', 'state', 'first_seen'], 1)\n",
    "    \n",
    "    events_by_date = pd.DataFrame(columns = events.columns)\n",
    "    dates_rearr = []\n",
    "    for i in range(len(events)):\n",
    "        for dates in date_range[i]:\n",
    "            if (dates <= date_max) & (dates >= date_min):\n",
    "                dates_rearr.append(dates)\n",
    "                events_by_date = events_by_date.append(events.iloc[i])\n",
    "    \n",
    "    # Aggregate new features\n",
    "    # Distance in miles\n",
    "    events_by_date['distance'] = events_by_date.apply(compute_dist, \n",
    "                                                  store_name=store_name, axis=1).div(1.609)\n",
    "    # Estimated capacity\n",
    "    events_by_date['est_capacity'] = events_by_date.apply(compute_capacity, axis=1)\n",
    "    # Impact\n",
    "    events_by_date['impact_linear'] = events_by_date.apply(compute_impact, method='linear', axis=1)\n",
    "    events_by_date['impact_exp'] = events_by_date.apply(compute_impact, method='exp', axis=1)\n",
    "    \n",
    "    events_by_date['date'] = dates_rearr\n",
    "    # Check if an event is annual\n",
    "    events_by_date['year'] = events_by_date.date.dt.year\n",
    "    is_annual = events_by_date.groupby('title')['year'].nunique().to_frame('is_annual').reset_index()\n",
    "    is_annual['is_annual'] = is_annual.eval('is_annual == 3').astype(int)\n",
    "    events_by_date = pd.merge(events_by_date, is_annual, on='title')\n",
    "    \n",
    "    # Reorganize the columns\n",
    "    cols = ['title', 'description', 'labels', 'category', \\\n",
    "            'date', 'year', 'is_annual', 'start_time', 'duration', \\\n",
    "            'venue_name', 'scope', 'venue_type', 'est_capacity', 'distance', 'longitude', 'latitude', \\\n",
    "            'rank', 'local_rank', 'aviation_rank', 'impact_linear', 'impact_exp']\n",
    "    events_by_date = events_by_date[cols]\n",
    "    \n",
    "    # For efficiency, write out the data\n",
    "    events_by_date.to_csv('events_' + store_name + '.csv', index=False)"
   ]
  },
  {
   "cell_type": "code",
   "execution_count": 24,
   "metadata": {},
   "outputs": [],
   "source": [
    "draw_events_data(events, 'LAS VEGAS NORTH')"
   ]
  },
  {
   "cell_type": "code",
   "execution_count": 25,
   "metadata": {},
   "outputs": [],
   "source": [
    "events_by_date = pd.read_csv('events_LAS VEGAS NORTH.csv')"
   ]
  },
  {
   "cell_type": "code",
   "execution_count": 26,
   "metadata": {},
   "outputs": [],
   "source": [
    "events_by_date.date = pd.to_datetime(events_by_date.date, format='%Y-%m-%d')"
   ]
  },
  {
   "cell_type": "code",
   "execution_count": 27,
   "metadata": {},
   "outputs": [
    {
     "data": {
      "text/html": [
       "<div>\n",
       "<style scoped>\n",
       "    .dataframe tbody tr th:only-of-type {\n",
       "        vertical-align: middle;\n",
       "    }\n",
       "\n",
       "    .dataframe tbody tr th {\n",
       "        vertical-align: top;\n",
       "    }\n",
       "\n",
       "    .dataframe thead th {\n",
       "        text-align: right;\n",
       "    }\n",
       "</style>\n",
       "<table border=\"1\" class=\"dataframe\">\n",
       "  <thead>\n",
       "    <tr style=\"text-align: right;\">\n",
       "      <th></th>\n",
       "      <th>title</th>\n",
       "      <th>description</th>\n",
       "      <th>labels</th>\n",
       "      <th>category</th>\n",
       "      <th>date</th>\n",
       "      <th>year</th>\n",
       "      <th>is_annual</th>\n",
       "      <th>start_time</th>\n",
       "      <th>duration</th>\n",
       "      <th>venue_name</th>\n",
       "      <th>...</th>\n",
       "      <th>venue_type</th>\n",
       "      <th>est_capacity</th>\n",
       "      <th>distance</th>\n",
       "      <th>longitude</th>\n",
       "      <th>latitude</th>\n",
       "      <th>rank</th>\n",
       "      <th>local_rank</th>\n",
       "      <th>aviation_rank</th>\n",
       "      <th>impact_linear</th>\n",
       "      <th>impact_exp</th>\n",
       "    </tr>\n",
       "  </thead>\n",
       "  <tbody>\n",
       "    <tr>\n",
       "      <th>0</th>\n",
       "      <td>UNLVino</td>\n",
       "      <td>\"From its humble beginnings in the Southern Wi...</td>\n",
       "      <td>\"community,festival,food,fundraiser\"</td>\n",
       "      <td>festivals</td>\n",
       "      <td>2017-04-02</td>\n",
       "      <td>2017</td>\n",
       "      <td>0</td>\n",
       "      <td>am</td>\n",
       "      <td>259199</td>\n",
       "      <td>Paris Las Vegas</td>\n",
       "      <td>...</td>\n",
       "      <td>indoor</td>\n",
       "      <td>7283.191844</td>\n",
       "      <td>4.086249</td>\n",
       "      <td>-115.170671</td>\n",
       "      <td>36.112541</td>\n",
       "      <td>66</td>\n",
       "      <td>83.0</td>\n",
       "      <td>60.0</td>\n",
       "      <td>16.151732</td>\n",
       "      <td>1.285489e+13</td>\n",
       "    </tr>\n",
       "    <tr>\n",
       "      <th>1</th>\n",
       "      <td>UNLVino</td>\n",
       "      <td>\"From its humble beginnings in the Southern Wi...</td>\n",
       "      <td>\"community,festival,food,fundraiser\"</td>\n",
       "      <td>festivals</td>\n",
       "      <td>2019-04-12</td>\n",
       "      <td>2019</td>\n",
       "      <td>0</td>\n",
       "      <td>am</td>\n",
       "      <td>183600</td>\n",
       "      <td>UNLVino</td>\n",
       "      <td>...</td>\n",
       "      <td>indoor</td>\n",
       "      <td>7283.191844</td>\n",
       "      <td>1.492260</td>\n",
       "      <td>-115.153528</td>\n",
       "      <td>36.149392</td>\n",
       "      <td>66</td>\n",
       "      <td>84.0</td>\n",
       "      <td>0.0</td>\n",
       "      <td>44.228223</td>\n",
       "      <td>9.638934e+13</td>\n",
       "    </tr>\n",
       "    <tr>\n",
       "      <th>2</th>\n",
       "      <td>UNLVino</td>\n",
       "      <td>\"From its humble beginnings in the Southern Wi...</td>\n",
       "      <td>\"community,festival,food,fundraiser\"</td>\n",
       "      <td>festivals</td>\n",
       "      <td>2019-04-13</td>\n",
       "      <td>2019</td>\n",
       "      <td>0</td>\n",
       "      <td>am</td>\n",
       "      <td>183600</td>\n",
       "      <td>UNLVino</td>\n",
       "      <td>...</td>\n",
       "      <td>indoor</td>\n",
       "      <td>7283.191844</td>\n",
       "      <td>1.492260</td>\n",
       "      <td>-115.153528</td>\n",
       "      <td>36.149392</td>\n",
       "      <td>66</td>\n",
       "      <td>84.0</td>\n",
       "      <td>0.0</td>\n",
       "      <td>44.228223</td>\n",
       "      <td>9.638934e+13</td>\n",
       "    </tr>\n",
       "  </tbody>\n",
       "</table>\n",
       "<p>3 rows × 21 columns</p>\n",
       "</div>"
      ],
      "text/plain": [
       "     title                                        description  \\\n",
       "0  UNLVino  \"From its humble beginnings in the Southern Wi...   \n",
       "1  UNLVino  \"From its humble beginnings in the Southern Wi...   \n",
       "2  UNLVino  \"From its humble beginnings in the Southern Wi...   \n",
       "\n",
       "                                 labels   category       date  year  \\\n",
       "0  \"community,festival,food,fundraiser\"  festivals 2017-04-02  2017   \n",
       "1  \"community,festival,food,fundraiser\"  festivals 2019-04-12  2019   \n",
       "2  \"community,festival,food,fundraiser\"  festivals 2019-04-13  2019   \n",
       "\n",
       "   is_annual start_time  duration       venue_name  ... venue_type  \\\n",
       "0          0         am    259199  Paris Las Vegas  ...     indoor   \n",
       "1          0         am    183600          UNLVino  ...     indoor   \n",
       "2          0         am    183600          UNLVino  ...     indoor   \n",
       "\n",
       "  est_capacity  distance   longitude   latitude  rank  local_rank  \\\n",
       "0  7283.191844  4.086249 -115.170671  36.112541    66        83.0   \n",
       "1  7283.191844  1.492260 -115.153528  36.149392    66        84.0   \n",
       "2  7283.191844  1.492260 -115.153528  36.149392    66        84.0   \n",
       "\n",
       "   aviation_rank  impact_linear    impact_exp  \n",
       "0           60.0      16.151732  1.285489e+13  \n",
       "1            0.0      44.228223  9.638934e+13  \n",
       "2            0.0      44.228223  9.638934e+13  \n",
       "\n",
       "[3 rows x 21 columns]"
      ]
     },
     "execution_count": 27,
     "metadata": {},
     "output_type": "execute_result"
    }
   ],
   "source": [
    "events_by_date.head(3)"
   ]
  },
  {
   "cell_type": "code",
   "execution_count": 28,
   "metadata": {},
   "outputs": [
    {
     "name": "stdout",
     "output_type": "stream",
     "text": [
      "<class 'pandas.core.frame.DataFrame'>\n",
      "RangeIndex: 83957 entries, 0 to 83956\n",
      "Data columns (total 21 columns):\n",
      "title            83957 non-null object\n",
      "description      26764 non-null object\n",
      "labels           83957 non-null object\n",
      "category         83957 non-null object\n",
      "date             83957 non-null datetime64[ns]\n",
      "year             83957 non-null int64\n",
      "is_annual        83957 non-null int64\n",
      "start_time       83957 non-null object\n",
      "duration         83957 non-null int64\n",
      "venue_name       78061 non-null object\n",
      "scope            83957 non-null object\n",
      "venue_type       78061 non-null object\n",
      "est_capacity     83957 non-null float64\n",
      "distance         83957 non-null float64\n",
      "longitude        83957 non-null float64\n",
      "latitude         83957 non-null float64\n",
      "rank             83957 non-null int64\n",
      "local_rank       82096 non-null float64\n",
      "aviation_rank    45511 non-null float64\n",
      "impact_linear    83957 non-null float64\n",
      "impact_exp       83957 non-null float64\n",
      "dtypes: datetime64[ns](1), float64(8), int64(4), object(8)\n",
      "memory usage: 13.5+ MB\n"
     ]
    }
   ],
   "source": [
    "events_by_date.info()"
   ]
  }
 ],
 "metadata": {
  "kernelspec": {
   "display_name": "Python 3",
   "language": "python",
   "name": "python3"
  },
  "language_info": {
   "codemirror_mode": {
    "name": "ipython",
    "version": 3
   },
   "file_extension": ".py",
   "mimetype": "text/x-python",
   "name": "python",
   "nbconvert_exporter": "python",
   "pygments_lexer": "ipython3",
   "version": "3.7.2"
  }
 },
 "nbformat": 4,
 "nbformat_minor": 2
}
